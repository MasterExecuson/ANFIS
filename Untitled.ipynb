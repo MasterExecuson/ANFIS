{
 "cells": [
  {
   "cell_type": "markdown",
   "id": "every-configuration",
   "metadata": {},
   "source": [
    "#### Pendências\n",
    "\n",
    "* Calcular o SIG e initialize para poder entregar o valor que gera uma integridade mínima nas funções (de 0.5 a 1, por exemplo)"
   ]
  },
  {
   "cell_type": "markdown",
   "id": "devoted-narrow",
   "metadata": {},
   "source": [
    "https://github.com/craig-m-k/Recursive-least-squares/blob/master/RLS.ipynb ????\n",
    "\n",
    "https://www.youtube.com/watch?v=dAyt1pGYtYA&ab_channel=IntanZaurahMatDarus\n",
    "\n",
    "https://github.com/statsmodels/statsmodels"
   ]
  },
  {
   "cell_type": "code",
   "execution_count": 52,
   "id": "periodic-chemical",
   "metadata": {},
   "outputs": [],
   "source": [
    "import pandas as pd\n",
    "import numpy as np\n",
    "import collections \n",
    "import math\n",
    "import seaborn as sns\n",
    "sns.set()\n",
    "from matplotlib import rcParams\n",
    "rcParams['figure.figsize'] = 5,4\n",
    "from matplotlib import pyplot\n",
    "import statsmodels.api as sm\n",
    "\n",
    "class ANFIS():\n",
    "    def __init__(self, function, model, generations, learningRate, lam = 0.98, delta=1):\n",
    "        \n",
    "        \"\"\" \n",
    "            A classe ANFIS define um objeto fixo que será treinado para se encaixar a uma função.\n",
    "        Para inicializalas precisamos definir o número de funções (function) que corresponde ao número de if rules,\n",
    "        o formato do modelo que desejamos estudar (model), que deve vir como uma lista com [número de inputs, número de outputs]\n",
    "        o número máximo de gerações permitido (generations),\n",
    "        e a taxa de aprendizagem (learningRate).\n",
    "        \n",
    "        \n",
    "        Para treinar a classe e assim obter resultados acurados, é preciso realizar o comando train.\n",
    "        As funções de pertencimento serão gaussianas uniformemente distribuidas, a princípio, sendo modificadas no processo de \n",
    "        backpropagation. \n",
    "        \n",
    "        Além do aprendizado do backpropagation, é considerado também o aprendizado por LSE dos parametros de TKS para cada\n",
    "        set de parâmetros das funções de pertencimento que encontrarmos. \n",
    "        \n",
    "        Apersar de ser adaptativa, já que seus parâmetros são atualizados confome aprendizado de máquina, ele não atualiza os \n",
    "        parâmetros após a etapa de treinamento.\n",
    "        \n",
    "        \n",
    "        lam: forgetting factor, usually very close to 1. (online learning on LSE algorithm)\n",
    "        \n",
    "        self.num_vars = (self.inputdimension+1)*self.function\n",
    "        \n",
    "        delta controls the initial state for the LSE learning.\n",
    "        \n",
    "        self.A = delta*np.matrix(np.identity(self.num_vars))\n",
    "        \n",
    "        \n",
    "        \"\"\"\n",
    "        self.function = function\n",
    "        self.generations = generations\n",
    "        self.learningRate = learningRate\n",
    "        self.inputdimension = model[0]\n",
    "        self.outputsdimension = model[1]\n",
    "        #self.covarienceMatrixDimension = (self.inputdimension+1)*self.function*self.inputdimension\n",
    "        self.covarienceMatrixDimension = (self.inputdimension+1)*(self.function**self.inputdimension)\n",
    "        self.initialize()\n",
    "        \n",
    "        self.num_vars = self.covarienceMatrixDimension\n",
    "        self.lam = lam\n",
    "        self.delta = delta\n",
    "        \n",
    "      \n",
    "    def initialize(self,interval=[0,12],width = 5):\n",
    "        \n",
    "        \"\"\" \n",
    "            Initialize the arrays for the needed variables.\n",
    "            \n",
    "            mu (C) and sig (a) will be defined as an evenly spaced with same lenth argmuents\n",
    "        \"\"\"\n",
    "        \n",
    "        self.mu = []\n",
    "        for eachinput in range(self.inputdimension):\n",
    "            self.mu.append(np.linspace(interval[0],interval[1],num=self.function))\n",
    "        self.sig = (np.zeros([self.inputdimension,self.function]) + width)\n",
    "#         self.delsig = (np.zeros([self.inputdimension,self.function]))\n",
    "#         self.delmu = (np.zeros([self.inputdimension,self.function]))\n",
    "        \n",
    "            \n",
    "        self.µ = np.zeros([self.inputdimension,self.function])\n",
    "        #self.W = np.zeros([self.function for eachinput in range(self.inputdimension)]) # não precisa ser inicializada pois é calculada iterativamente)\n",
    "        \n",
    "    \n",
    "    def gaussian(self,x, cont, cont1):\n",
    "        \n",
    "        \n",
    "        core = (np.power(x - self.mu[cont][cont1], 2) / (np.power(self.sig[cont][cont1], 2)))\n",
    "#         gaussian = np.exp((-np.power(x - self.mu[cont][cont1], 2) / (np.power(self.sig[cont][cont1], 2)))) # mu é C e sig é A.\n",
    "        self.delmu[self.iteration][cont][cont1] = 2*(x-self.mu[cont][cont1])*np.exp(core)/np.power(self.sig[cont][cont1], 2)\n",
    "        self.delsig[self.iteration][cont][cont1] = 2*np.power(x-self.mu[cont][cont1],2)*np.exp(-core)/np.power(self.sig[cont][cont1], 3)\n",
    "        \n",
    "        return np.exp(-core)\n",
    "      \n",
    "    def membershipFunction(self):\n",
    "        \n",
    "        \"\"\"\n",
    "            Apply the inputs to the membership functions to return an array with dimension (#inputs, #functions).\n",
    "        \n",
    "        This way the µ[0] = [X,Y] will be the membership value for the 0th input and 0th rule.\n",
    "        \"\"\"\n",
    "        \n",
    "        cont=0               \n",
    "        for eachinput in self.inputs[self.iteration]:\n",
    "            cont1 = 0\n",
    "            for eachrule in range(self.function):\n",
    "                \n",
    "                self.µ[cont][cont1] = self.gaussian(eachinput,cont,cont1)\n",
    "                cont1+=1\n",
    "            cont +=1\n",
    "        return self.µ\n",
    "    \n",
    "    def Tnorm(self, W = None,cont=0,cont2=0): #AND operator\n",
    "        \n",
    "        \"\"\"\n",
    "            Apply the Tnorm function to the µ matrix. Multiplication will be used as \"and\" operator.\n",
    "            \n",
    "            Aqui é feito uma multiplicação de matrizes de n dimensões, sendo n = self.inputdimension (número de inputs).\n",
    "            \n",
    "            para isso é necessário que a a dimensão dos vetores µ seja conforme o padrão:\n",
    "            \n",
    "            µ[0].shape = [X 1 1 1 ... 1]\n",
    "            µ[1].shape = [1 X 1 1 ... 1]\n",
    "            µ[2].shape = [1 1 X 1 ... 1]\n",
    "            .\n",
    "            .\n",
    "            .\n",
    "            µ[n].shape = [1 1 1 1 ... X]\n",
    "            \n",
    "            Sendo X = self.function (número de funções), e que a multiplicação siga a ordem (1 com 2, 12 com 3, 123 com 4 ...). \n",
    "            \n",
    "            isso é feito para realizar a multiplicação matricial das matrizes:\n",
    "            \n",
    "            |µ11|                   |µ11µ21  µ11µ22  µ11µ23|\n",
    "            |µ12| X [µ21 µ22 µ23] = |µ12µ21  µ12µ22  µ12µ23|\n",
    "            |µ13|                   |µ13µ21  µ13µ22  µ13µ23| \n",
    "            \n",
    "            de n dimensões (neste caso duas), cada uma igual ao número de funções para cada variável. \n",
    "        \"\"\"\n",
    "        \n",
    "        \n",
    "                   \n",
    "        if type(W)==type(None): #primeiro loop\n",
    "            a,cont2 = self.listador(cont2) \n",
    "            W = self.µ[cont].reshape(a)\n",
    "            cont+=1\n",
    "            self.W = W\n",
    "        if cont<self.inputdimension:    \n",
    "            a,cont2 = self.listador(cont2)\n",
    "            W = np.matmul(W,self.µ[cont].reshape(a))\n",
    "            cont+=1    \n",
    "            self.W = self.Tnorm(W,cont,cont2)\n",
    "        return W\n",
    "                \n",
    "                \n",
    "    def listador(self,cont2):\n",
    "        a = []\n",
    "        for b in range(self.inputdimension):\n",
    "            if b == cont2:\n",
    "                a.append(self.function)\n",
    "            else:    \n",
    "                a.append(1)\n",
    "        cont2+=1\n",
    "        return a,cont2\n",
    "        \n",
    "    def normalization(self):   \n",
    "        \n",
    "        \"\"\"\n",
    "        Calculo do W barra, bem fácil com numpy\n",
    "        \"\"\"\n",
    "        self.iterWsum[self.iteration] = np.sum(self.W)\n",
    "        self.Wbarra = self.W/self.iterWbarra[self.iteration]\n",
    "        return self.Wbarra\n",
    "        \n",
    "    def transform(self,Wbarra):\n",
    "        \n",
    "        \"\"\" Makes the transformation of Wbarra from a squared [function**(input)] matrix to a complete matrix for all \n",
    "        the training data, resulting in a matrix of dimension [N] X [(input+1)*(functions)], in order to find the \n",
    "        vector of parameter for the TKS. This is also called as Covarience Matrix.\n",
    "        \n",
    "        The final matrix should be: \n",
    "        \n",
    "        transformed[0] = [W00*X0,W11*Y0,...,W00,...,Wn0*X0,Wn0*Y0,...,Wn0]\n",
    "        transformed[1] = [W01*X1,W01*Y1,...,W01,...,Wn1*X1,Wn1*Y1,...,Wn1]\n",
    "        .\n",
    "        .\n",
    "        .\n",
    "        transformed[m] = [W0m*Xm,W0m*Ym,...,W0m,...,Wnm*Xm,Wnm*Ym,...,Wnm]\n",
    "        \n",
    "        n being the number of inputs and m the nmber of training data pairs.\n",
    "        Wbarra is an list of arrays.\n",
    "        THIS FUNCTION SHOULD BE CALLED AFTER THE NORMALIZATION OFF ****ALL**** THE TRAINING DATA PAIRS HAS BEEN PEFORMED.\n",
    "        \n",
    "        A submatrix tem um formato semelhante à Tnorm, para poder calcular a matriz de covariância:\n",
    "        \n",
    "        [[0.37167694 0.22998752 0.22998752 0.14231245 0.00798868 0.00494326\n",
    "          0.         0.         0.         0.         0.         0.\n",
    "          0.         0.         0.         0.         0.         0.        ]\n",
    "          \n",
    "         [0.         0.         0.         0.         0.         0.\n",
    "          0.37167694 0.22998752 0.22998752 0.14231245 0.00798868 0.00494326\n",
    "          0.         0.         0.         0.         0.         0.        ]\n",
    "          \n",
    "         [0.         0.         0.         0.         0.         0.\n",
    "          0.         0.         0.         0.         0.         0.\n",
    "          0.37167694 0.22998752 0.22998752 0.14231245 0.00798868 0.00494326]]\n",
    "          \n",
    "          for the multiplication:\n",
    "                   \n",
    "                    |W1 W2 0  0  0  0  |\n",
    "          [x,y,1] X |0  0  W1 W2 0  0  | \n",
    "                    |0  0  0  0  W1 W2 |\n",
    "                    \n",
    "            resultando em uma linha da matriz de covariância para os dados x e y.\n",
    "            \n",
    "            !!!!!!!!!!!!!A dimensão das matrizes é respectivamente [1,self.inputdimension+1] e \n",
    "            [self.inputdimension+1,((self.function**2)*self.inputdimension+1)]. \n",
    "            \n",
    "            Perceba que a primeira dimensão da segunda matriz é simplesmente a planificação da matriz Wbarra.\n",
    "        »»  O caso acima é uma situação atípica em que os pesos W não são completamente ligados. \n",
    "        \n",
    "       \"\"\"\n",
    "        matrixfinal = np.zeros([self.maxiter,self.covarienceMatrixDimension])\n",
    "        datapaircount = 0\n",
    "        for matrix in Wbarra: # for each data pair\n",
    "            submatrix = np.zeros([self.inputdimension+1,self.covarienceMatrixDimension])\n",
    "            positioncount = 0 \n",
    "            cont = 0\n",
    "            cont1 = 0\n",
    "            for eachvalue in range(self.function**self.inputdimension): #dimension of Wbarra, each line of the submatrix\n",
    "                inputcount = 0\n",
    "                for eachinput in range(self.inputdimension+1):  \n",
    "#                     print(submatrix,inputcount,positioncount)\n",
    "#                     print(\"---------------------------------------------\")\n",
    "#                     print(matrix, cont, cont1)\n",
    "#                     print(\"---------------------------------------------\")\n",
    "#                     print((matrix[cont])[cont1])\n",
    "                    submatrix[inputcount][positioncount] = matrix[cont][cont1]\n",
    "                    inputcount +=1\n",
    "                    positioncount += 1\n",
    "                cont += 1*0**(self.function-1-cont1) # substitues the if bellow. -1 is needed as the range works without including the last value\n",
    "                cont1 +=1 +(-(cont1+1)*0**(self.function-1-cont1)) # substitues the if bellow. -1 is needed as the range works without including the last value\n",
    "#                     if cont1 == self.function:\n",
    "#                         cont1 = 0\n",
    "#                         cont +=1\n",
    "            \n",
    "            temp = self.inputs[datapaircount].copy()\n",
    "            temp.append(1)\n",
    "            matrixfinal[datapaircount] = np.matmul((temp),submatrix) # essa multiplicação é uma forma de alcançar a matrix transformada a partir da matrix de inputs x matriz Wbarra \n",
    "            datapaircount += 1\n",
    "        self.covarienceMatrix = matrixfinal  \n",
    "        return self.covarienceMatrix\n",
    "\n",
    "    def initLSETraining(self):\n",
    "        #Copied \n",
    "        #num_vars: number of variables including constant\n",
    "        #lam: forgetting factor, usually very close to 1.\n",
    "        \n",
    "       \n",
    "        self.S = 10**6*np.matrix(np.identity(self.num_vars))\n",
    "        # delta controls the initial state.\n",
    "        self.A = self.delta*np.matrix(np.identity(self.num_vars))\n",
    "        self.w = np.matrix(np.zeros(self.num_vars))\n",
    "        self.w = self.w.reshape(self.w.shape[1],1)\n",
    "        \n",
    "        # Variables needed for add_obs\n",
    "        self.lam_inv = self.lam**(-1)\n",
    "        self.sqrt_lam_inv = math.sqrt(self.lam_inv)\n",
    "        \n",
    "        # A priori error\n",
    "        self.a_priori_error = 0\n",
    "        \n",
    "        # Count of number of observations added\n",
    "        self.num_obs = 0\n",
    "    \n",
    "        \n",
    "\n",
    "    def add_obs(self, x, t):\n",
    "        '''\n",
    "        Add the observation x with label t.\n",
    "        x is a column vector as a numpy matrix\n",
    "        t is a real scalar\n",
    "        '''            \n",
    "#         z = self.lam_inv*self.A*x\n",
    "#         alpha = float((1 + x.T*z)**(-1))\n",
    "        self.a_priori_error = float(t - self.w.T*x)\n",
    "        \n",
    "#         self.w = self.w + (t-alpha*float(x.T*(self.w+t*z)))*z\n",
    "#         self.A -= alpha*z*z.T\n",
    "\n",
    "        self.S = self.S - ((self.S*x)*(x.T*self.S))/(1+(x.T*self.S)*x)\n",
    "        self.w = self.w + self.S*x*(t - x.T*self.w)\n",
    "    \n",
    "    \n",
    "        self.num_obs += 1\n",
    "        \n",
    "    def fit(self, X, y):\n",
    "        '''\n",
    "        Fit a model to X,y.\n",
    "        X and y are numpy arrays.\n",
    "        Individual observations in X should have a prepended 1 for constant coefficient.\n",
    "        '''\n",
    "        for i in range(len(X)):\n",
    "            x = np.transpose(np.matrix(X[i]))\n",
    "            self.add_obs(x,y[i])\n",
    "\n",
    "\n",
    "    def get_error(self):\n",
    "        '''\n",
    "        Finds the a priori (instantaneous) error. \n",
    "        Does not calculate the cumulative effect\n",
    "        of round-off errors.\n",
    "        '''\n",
    "        return self.a_priori_error\n",
    "    \n",
    "    def predict(self, x):\n",
    "        '''\n",
    "        Predict the value of observation x. x should be a numpy matrix (col vector)\n",
    "        '''\n",
    "        return float(self.w.T*x)\n",
    "    \n",
    "\n",
    "    def LSE(self):\n",
    "        \n",
    "        \"\"\"LSE is the method through which the minimum squared errors of the parameters of the TKS method is calculated\"\"\"\n",
    "        \n",
    "        self.pred_y = []\n",
    "        if self.training:\n",
    "            self.initLSETraining()\n",
    "            for i in range(self.maxiter):\n",
    "                x = self.covarienceMatrix[i].reshape([self.covarienceMatrixDimension,1]) #transpose\n",
    "                self.add_obs(np.matrix(x),self.outputs[i])\n",
    "        for i in range(self.maxiter):\n",
    "            x = self.covarienceMatrix[i].reshape([self.covarienceMatrixDimension,1]) #transpose\n",
    "            prediction = self.predict(x)\n",
    "            self.pred_y.append(float(prediction))\n",
    "        \n",
    "        if self.training:\n",
    "            self.errors = np.array(self.outputs) - self.pred_y\n",
    "            \n",
    "            print(\"Error:\")\n",
    "            pyplot.plot(self.pred_x,self.errors,\"red\")\n",
    "            pyplot.show()\n",
    "            \n",
    "        print(\"Prediction\")\n",
    "        pyplot.plot(self.pred_x,self.pred_y,\"blue\") \n",
    "        pyplot.show()\n",
    "        print(\"Y and Y_pred Overlap\")\n",
    "        pyplot.plot(self.pred_x,self.pred_y,\"blue\") \n",
    "        pyplot.plot(self.pred_x,self.outputs,\"green\")\n",
    "        pyplot.show()\n",
    "        \n",
    "    def backprop(self):\n",
    "        \"\"\"\n",
    "            Execute the membership function constants tunning via the derivative of the error.\n",
    "        It's calculated based on the partial derivative of the error for the partial derivative of the constant.\n",
    "        As we only know the devivative of the constant regarding the function itself, we need to apply the chain rule to find\n",
    "        the partial derivatives of each layer to the next and the derivative of the error withe the last layer,\n",
    "        that is easely calculated.\n",
    "        \"\"\"\n",
    "        cont=0               \n",
    "        for eachinput in self.inputs[self.iteration]:\n",
    "            cont1 = 0\n",
    "            for eachrule in range(self.function):\n",
    "                \n",
    "                self.mu[cont][cont1] = self.mu[cont][cont1] -()\n",
    "                \n",
    "                self.sig[cont][cont1] = self.sig[cont][cont1] -()\n",
    "                \n",
    "#                 self.µ[cont][cont1] = self.gaussian(eachinput,cont,cont1)\n",
    "                cont1+=1\n",
    "            cont +=1\n",
    "#         return self.µ\n",
    "        \n",
    "\n",
    "\n",
    "    def train(self, inputs, outputs, retrain=False):\n",
    "        \n",
    "        \"\"\"\n",
    "       \n",
    "         it's expected that inputs is a list with N dimensions and M repetitions of the input, leaving:\n",
    "       \n",
    "         inputs[N,M] as the Nth input on the Mth repetition.\n",
    "         \n",
    "         this way, inputs[0] will return all the variables inputs of the first input.\n",
    "         \n",
    "         Outputs should correspond one to one to the inputs statments.\n",
    "        \"\"\"\n",
    "        \n",
    "        self.training = True\n",
    "        self.outputs = outputs\n",
    "        self.execution(inputs)\n",
    "        \n",
    "    def use(self,inputs):\n",
    "        \n",
    "        \"\"\"\n",
    "        \n",
    "        it's expected that inputs is a list with N dimensions and M repetitions of the input, leaving:\n",
    "        \n",
    "        inputs[N,M] as the Nth input on the Mth repetition.\n",
    "        \n",
    "        The loop of repetitions is made externaly to facilitate the online or offline training.\n",
    "        \"\"\"\n",
    "\n",
    "        self.training = False\n",
    "        \n",
    "        self.execution(inputs)        \n",
    "    \n",
    "    \n",
    "    def execution(self,inputs):\n",
    "        \n",
    "        \n",
    "        if not isinstance(inputs,collections.abc.Iterable):\n",
    "            inputs = [inputs]\n",
    "        self.inputs = inputs\n",
    "        self.maxiter = len(self.inputs)\n",
    "        if self.training:\n",
    "            if len(self.outputs)!=self.maxiter:\n",
    "                raise Exception(f\"Output length ( {self.outputs} ) need to be iqual to input length ( {self.maxiter} )\")\n",
    "         \n",
    "        \n",
    "        \n",
    "        self.iteration = 0 #controla a iteração do loop de dados de treino de uma geração \n",
    "        Wbarra = []\n",
    "        \n",
    "        #variables for the backpropagation\n",
    "        self.iterµ = []\n",
    "        self.iterW = []\n",
    "        self.iterWsum = np.zeros([self.maxiter]) # valores da soma de todos os W para cada Datapair\n",
    "        self.delsig = (np.zeros([self.maxiter,self.inputdimension,self.function]))\n",
    "        self.delmu = (np.zeros([self.maxiter,self.inputdimension,self.function]))\n",
    "        \n",
    "        for i in range(self.maxiter):\n",
    "            self.iterµ.append(self.membershipFunction())\n",
    "            self.iterW.append(self.Tnorm())\n",
    "            Ws = self.normalization()\n",
    "            if self.inputdimension ==1: #!!!!!!! substitua esse IF por uma função de planificação de self.normalization que deve funcionar para qualquer número de inputs, já retornando nesse formato especial.\n",
    "                Ws = [self.normalization()]\n",
    "            Wbarra.append(Ws)\n",
    "            self.iteration+=1\n",
    "        \n",
    "        self.transform(Wbarra)\n",
    "        self.pred_x = [i for i in range(self.maxiter)]\n",
    "        self.LSE()"
   ]
  },
  {
   "cell_type": "code",
   "execution_count": 53,
   "id": "olive-thomson",
   "metadata": {},
   "outputs": [],
   "source": [
    "a = ANFIS(function=4,model=[2,1],generations=500,learningRate=0.98, lam = 0.98, delta=1)"
   ]
  },
  {
   "cell_type": "code",
   "execution_count": 54,
   "id": "therapeutic-demographic",
   "metadata": {},
   "outputs": [],
   "source": [
    "iterações = 11#problema na matrix de covariância."
   ]
  },
  {
   "cell_type": "code",
   "execution_count": 55,
   "id": "acting-daniel",
   "metadata": {
    "scrolled": false
   },
   "outputs": [
    {
     "name": "stdout",
     "output_type": "stream",
     "text": [
      "Error:\n"
     ]
    },
    {
     "data": {
      "image/png": "[encoded data removed]",
      "text/plain": [
       "<Figure size 360x288 with 1 Axes>"
      ]
     },
     "metadata": {},
     "output_type": "display_data"
    },
    {
     "name": "stdout",
     "output_type": "stream",
     "text": [
      "Prediction\n"
     ]
    },
    {
     "data": {
      "image/png": "[encoded data removed]",
      "text/plain": [
       "<Figure size 360x288 with 1 Axes>"
      ]
     },
     "metadata": {},
     "output_type": "display_data"
    },
    {
     "name": "stdout",
     "output_type": "stream",
     "text": [
      "Y and Y_pred Overlap\n"
     ]
    },
    {
     "data": {
      "image/png": "[encoded data removed]",
      "text/plain": [
       "<Figure size 360x288 with 1 Axes>"
      ]
     },
     "metadata": {},
     "output_type": "display_data"
    }
   ],
   "source": [
    "# a.train([[1,2],[2,4]],[2,4])\n",
    "# a.use([[1,2],[2,4]])\n",
    "\n",
    "a.train([[i,i*i] for i in range(iterações)],[i*i+i*5+3 for i in range(iterações)])\n"
   ]
  },
  {
   "cell_type": "code",
   "execution_count": 49,
   "id": "handy-italy",
   "metadata": {
    "scrolled": true
   },
   "outputs": [
    {
     "data": {
      "text/plain": [
       "[3.0000136106445288,\n",
       " 8.999959134432599,\n",
       " 17.00002284838391,\n",
       " 26.999974452445226,\n",
       " 39.00007608174481,\n",
       " 52.999594273871026,\n",
       " 69.0009527704703,\n",
       " 86.99884755909954,\n",
       " 107.00077294819675,\n",
       " 128.9997255870266,\n",
       " 153.00004010077492]"
      ]
     },
     "execution_count": 49,
     "metadata": {},
     "output_type": "execute_result"
    }
   ],
   "source": [
    "a.pred_y"
   ]
  },
  {
   "cell_type": "code",
   "execution_count": 19,
   "id": "unsigned-island",
   "metadata": {},
   "outputs": [
    {
     "data": {
      "text/plain": [
       "[array([ 0.,  4.,  8., 12.]), array([ 0.,  4.,  8., 12.])]"
      ]
     },
     "execution_count": 19,
     "metadata": {},
     "output_type": "execute_result"
    }
   ],
   "source": [
    "a.mu"
   ]
  },
  {
   "cell_type": "code",
   "execution_count": 20,
   "id": "announced-librarian",
   "metadata": {},
   "outputs": [
    {
     "data": {
      "text/plain": [
       "[array([[1.83156389e-002, 2.36927759e-001, 8.52143789e-001,\n",
       "         8.52143789e-001],\n",
       "        [1.91516960e-174, 7.97410943e-161, 9.23124350e-148,\n",
       "         2.97126431e-135]]),\n",
       " array([[1.83156389e-002, 2.36927759e-001, 8.52143789e-001,\n",
       "         8.52143789e-001],\n",
       "        [1.91516960e-174, 7.97410943e-161, 9.23124350e-148,\n",
       "         2.97126431e-135]]),\n",
       " array([[1.83156389e-002, 2.36927759e-001, 8.52143789e-001,\n",
       "         8.52143789e-001],\n",
       "        [1.91516960e-174, 7.97410943e-161, 9.23124350e-148,\n",
       "         2.97126431e-135]]),\n",
       " array([[1.83156389e-002, 2.36927759e-001, 8.52143789e-001,\n",
       "         8.52143789e-001],\n",
       "        [1.91516960e-174, 7.97410943e-161, 9.23124350e-148,\n",
       "         2.97126431e-135]]),\n",
       " array([[1.83156389e-002, 2.36927759e-001, 8.52143789e-001,\n",
       "         8.52143789e-001],\n",
       "        [1.91516960e-174, 7.97410943e-161, 9.23124350e-148,\n",
       "         2.97126431e-135]]),\n",
       " array([[1.83156389e-002, 2.36927759e-001, 8.52143789e-001,\n",
       "         8.52143789e-001],\n",
       "        [1.91516960e-174, 7.97410943e-161, 9.23124350e-148,\n",
       "         2.97126431e-135]]),\n",
       " array([[1.83156389e-002, 2.36927759e-001, 8.52143789e-001,\n",
       "         8.52143789e-001],\n",
       "        [1.91516960e-174, 7.97410943e-161, 9.23124350e-148,\n",
       "         2.97126431e-135]]),\n",
       " array([[1.83156389e-002, 2.36927759e-001, 8.52143789e-001,\n",
       "         8.52143789e-001],\n",
       "        [1.91516960e-174, 7.97410943e-161, 9.23124350e-148,\n",
       "         2.97126431e-135]]),\n",
       " array([[1.83156389e-002, 2.36927759e-001, 8.52143789e-001,\n",
       "         8.52143789e-001],\n",
       "        [1.91516960e-174, 7.97410943e-161, 9.23124350e-148,\n",
       "         2.97126431e-135]]),\n",
       " array([[1.83156389e-002, 2.36927759e-001, 8.52143789e-001,\n",
       "         8.52143789e-001],\n",
       "        [1.91516960e-174, 7.97410943e-161, 9.23124350e-148,\n",
       "         2.97126431e-135]]),\n",
       " array([[1.83156389e-002, 2.36927759e-001, 8.52143789e-001,\n",
       "         8.52143789e-001],\n",
       "        [1.91516960e-174, 7.97410943e-161, 9.23124350e-148,\n",
       "         2.97126431e-135]])]"
      ]
     },
     "execution_count": 20,
     "metadata": {},
     "output_type": "execute_result"
    }
   ],
   "source": [
    "a.iterµ"
   ]
  },
  {
   "cell_type": "code",
   "execution_count": 21,
   "id": "current-lewis",
   "metadata": {},
   "outputs": [
    {
     "data": {
      "text/plain": [
       "array([[[0.00000000e+000, 1.34986861e-001, 7.91600542e-002,\n",
       "         7.26016112e-003],\n",
       "        [0.00000000e+000, 1.34986861e-001, 7.91600542e-002,\n",
       "         7.26016112e-003]],\n",
       "\n",
       "       [[1.53726310e-002, 1.00465391e-001, 1.10433002e-001,\n",
       "         1.53080566e-002],\n",
       "        [1.53726310e-002, 1.00465391e-001, 1.10433002e-001,\n",
       "         1.53080566e-002]],\n",
       "\n",
       "       [[5.45372025e-002, 5.45372025e-002, 1.36470389e-001,\n",
       "         2.93050222e-002],\n",
       "        [1.34986861e-001, 0.00000000e+000, 1.34986861e-001,\n",
       "         7.91600542e-002]],\n",
       "\n",
       "       [[1.00465391e-001, 1.53726310e-002, 1.47151776e-001,\n",
       "         5.07564080e-002],\n",
       "        [5.07564080e-002, 1.47151776e-001, 1.53726310e-002,\n",
       "         1.00465391e-001]],\n",
       "\n",
       "       [[1.34986861e-001, 0.00000000e+000, 1.34986861e-001,\n",
       "         7.91600542e-002],\n",
       "        [1.46279832e-004, 7.26016112e-003, 7.91600542e-002,\n",
       "         1.34986861e-001]],\n",
       "\n",
       "       [[1.47151776e-001, 1.53726310e-002, 1.00465391e-001,\n",
       "         1.10433002e-001],\n",
       "        [1.38879439e-010, 1.54029502e-007, 4.41137131e-005,\n",
       "         3.13455569e-003]],\n",
       "\n",
       "       [[1.36470389e-001, 5.45372025e-002, 5.45372025e-002,\n",
       "         1.36470389e-001],\n",
       "        [6.35183258e-022, 2.66512732e-017, 3.01273611e-013,\n",
       "         9.08652034e-010]],\n",
       "\n",
       "       [[1.10433002e-001, 1.00465391e-001, 1.53726310e-002,\n",
       "         1.47151776e-001],\n",
       "        [7.49669946e-041, 2.15125541e-034, 1.68937761e-028,\n",
       "         3.61874184e-023]],\n",
       "\n",
       "       [[7.91600542e-002, 1.34986861e-001, 0.00000000e+000,\n",
       "         1.34986861e-001],\n",
       "        [4.58851352e-070, 1.66731282e-061, 1.66953769e-053,\n",
       "         4.60082280e-046]],\n",
       "\n",
       "       [[5.07564080e-002, 1.47151776e-001, 1.53726310e-002,\n",
       "         1.00465391e-001],\n",
       "        [1.10878206e-112, 9.54601483e-102, 2.27276190e-091,\n",
       "         1.49546768e-081]],\n",
       "\n",
       "       [[2.93050222e-002, 1.36470389e-001, 5.45372025e-002,\n",
       "         5.45372025e-002],\n",
       "        [3.06427135e-172, 1.17583028e-158, 1.25013192e-145,\n",
       "         3.68151532e-133]]])"
      ]
     },
     "execution_count": 21,
     "metadata": {},
     "output_type": "execute_result"
    }
   ],
   "source": [
    "a.delsig"
   ]
  },
  {
   "cell_type": "code",
   "execution_count": 22,
   "id": "legitimate-blame",
   "metadata": {},
   "outputs": [
    {
     "data": {
      "text/plain": [
       "array([[[ 0.00000000e+000, -6.06873881e-001, -8.27892308e+000,\n",
       "         -3.04654396e+002],\n",
       "        [ 0.00000000e+000, -6.06873881e-001, -8.27892308e+000,\n",
       "         -3.04654396e+002]],\n",
       "\n",
       "       [[ 8.32648619e-002, -3.43999059e-001, -3.97562316e+000,\n",
       "         -1.11293030e+002],\n",
       "        [ 8.32648619e-002, -3.43999059e-001, -3.97562316e+000,\n",
       "         -1.11293030e+002]],\n",
       "\n",
       "       [[ 1.87761739e-001, -1.87761739e-001, -2.02593399e+000,\n",
       "         -4.36785200e+001],\n",
       "        [ 6.06873881e-001,  0.00000000e+000, -6.06873881e-001,\n",
       "         -8.27892308e+000]],\n",
       "\n",
       "       [[ 3.43999059e-001, -8.32648619e-002, -1.08731273e+000,\n",
       "         -1.83842797e+001],\n",
       "        [ 1.83842797e+001,  1.08731273e+000,  8.32648619e-002,\n",
       "         -3.43999059e-001]],\n",
       "\n",
       "       [[ 6.06873881e-001,  0.00000000e+000, -6.06873881e-001,\n",
       "         -8.27892308e+000],\n",
       "        [ 3.58414412e+004,  3.04654396e+002,  8.27892308e+000,\n",
       "          6.06873881e-001]],\n",
       "\n",
       "       [[ 1.08731273e+000,  8.32648619e-002, -3.43999059e-001,\n",
       "         -3.97562316e+000],\n",
       "        [ 1.44009799e+011,  7.69598021e+007,  1.42555218e+005,\n",
       "          8.97147884e+002]],\n",
       "\n",
       "       [[ 2.02593399e+000,  1.87761739e-001, -1.87761739e-001,\n",
       "         -2.02593399e+000],\n",
       "        [ 9.40196066e+022,  1.57377247e+018,  9.32659183e+013,\n",
       "          1.94735931e+010]],\n",
       "\n",
       "       [[ 3.97562316e+000,  3.43999059e-001, -8.32648619e-002,\n",
       "         -1.08731273e+000],\n",
       "        [ 2.00876026e+042,  5.42195033e+035,  5.22197522e+029,\n",
       "          1.79166801e+024]],\n",
       "\n",
       "       [[ 8.27892308e+000,  6.06873881e-001,  0.00000000e+000,\n",
       "         -6.06873881e-001],\n",
       "        [ 7.31270200e+071,  1.65823712e+063,  1.34641154e+055,\n",
       "          3.91187072e+047]],\n",
       "\n",
       "       [[ 1.83842797e+001,  1.08731273e+000,  8.32648619e-002,\n",
       "         -3.43999059e-001],\n",
       "        [ 6.13506031e+114,  6.12153082e+103,  2.19091036e+093,\n",
       "          2.81177271e+083]],\n",
       "\n",
       "       [[ 4.36785200e+001,  2.02593399e+000,  1.87761739e-001,\n",
       "         -1.87761739e-001],\n",
       "        [ 4.17717575e+174,  9.63116956e+160,  7.97292369e+147,\n",
       "          2.36936175e+135]]])"
      ]
     },
     "execution_count": 22,
     "metadata": {},
     "output_type": "execute_result"
    }
   ],
   "source": [
    "a.delmu"
   ]
  },
  {
   "cell_type": "code",
   "execution_count": 23,
   "id": "quality-obligation",
   "metadata": {},
   "outputs": [
    {
     "data": {
      "text/plain": [
       "array([[5., 5., 5., 5.],\n",
       "       [5., 5., 5., 5.]])"
      ]
     },
     "execution_count": 23,
     "metadata": {},
     "output_type": "execute_result"
    }
   ],
   "source": [
    "a.sig"
   ]
  },
  {
   "cell_type": "code",
   "execution_count": 24,
   "id": "amended-voltage",
   "metadata": {},
   "outputs": [
    {
     "data": {
      "text/plain": [
       "array([[1.83156389e-002, 2.36927759e-001, 8.52143789e-001,\n",
       "        8.52143789e-001],\n",
       "       [1.91516960e-174, 7.97410943e-161, 9.23124350e-148,\n",
       "        2.97126431e-135]])"
      ]
     },
     "execution_count": 24,
     "metadata": {},
     "output_type": "execute_result"
    }
   ],
   "source": [
    "a.µ"
   ]
  },
  {
   "cell_type": "code",
   "execution_count": 25,
   "id": "adjusted-scheduling",
   "metadata": {},
   "outputs": [
    {
     "data": {
      "text/plain": [
       "[[0, 0],\n",
       " [1, 1],\n",
       " [2, 4],\n",
       " [3, 9],\n",
       " [4, 16],\n",
       " [5, 25],\n",
       " [6, 36],\n",
       " [7, 49],\n",
       " [8, 64],\n",
       " [9, 81],\n",
       " [10, 100]]"
      ]
     },
     "execution_count": 25,
     "metadata": {},
     "output_type": "execute_result"
    }
   ],
   "source": [
    "a.inputs"
   ]
  },
  {
   "cell_type": "code",
   "execution_count": 26,
   "id": "legitimate-continuity",
   "metadata": {},
   "outputs": [
    {
     "data": {
      "text/plain": [
       "array([[5., 5., 5., 5.],\n",
       "       [5., 5., 5., 5.]])"
      ]
     },
     "execution_count": 26,
     "metadata": {},
     "output_type": "execute_result"
    }
   ],
   "source": [
    "a.sig"
   ]
  },
  {
   "cell_type": "code",
   "execution_count": 27,
   "id": "choice-province",
   "metadata": {},
   "outputs": [
    {
     "data": {
      "text/plain": [
       "[array([ 0.,  4.,  8., 12.]), array([ 0.,  4.,  8., 12.])]"
      ]
     },
     "execution_count": 27,
     "metadata": {},
     "output_type": "execute_result"
    }
   ],
   "source": [
    "a.mu"
   ]
  },
  {
   "cell_type": "code",
   "execution_count": 28,
   "id": "rolled-observer",
   "metadata": {},
   "outputs": [
    {
     "data": {
      "text/plain": [
       "array([[1.83156389e-002, 2.36927759e-001, 8.52143789e-001,\n",
       "        8.52143789e-001],\n",
       "       [1.91516960e-174, 7.97410943e-161, 9.23124350e-148,\n",
       "        2.97126431e-135]])"
      ]
     },
     "execution_count": 28,
     "metadata": {},
     "output_type": "execute_result"
    }
   ],
   "source": [
    "a.µ"
   ]
  },
  {
   "cell_type": "code",
   "execution_count": 29,
   "id": "arabic-identifier",
   "metadata": {},
   "outputs": [
    {
     "data": {
      "text/plain": [
       "array([[3.50775547e-176, 1.46050909e-162, 1.69076122e-149,\n",
       "        5.44206041e-137],\n",
       "       [4.53756840e-175, 1.88928787e-161, 2.18713783e-148,\n",
       "        7.03974992e-136],\n",
       "       [1.63199988e-174, 6.79508782e-161, 7.86634681e-148,\n",
       "        2.53194442e-135],\n",
       "       [1.63199988e-174, 6.79508782e-161, 7.86634681e-148,\n",
       "        2.53194442e-135]])"
      ]
     },
     "execution_count": 29,
     "metadata": {},
     "output_type": "execute_result"
    }
   ],
   "source": [
    "a.W"
   ]
  },
  {
   "cell_type": "code",
   "execution_count": 50,
   "id": "favorite-morris",
   "metadata": {},
   "outputs": [
    {
     "data": {
      "text/plain": [
       "array([[6.02470647e-42, 2.50848117e-28, 2.90394817e-15, 9.34695043e-03],\n",
       "       [7.79345023e-41, 3.24492541e-27, 3.75649430e-14, 1.20910443e-01],\n",
       "       [2.80302327e-40, 1.16708276e-26, 1.35107566e-13, 4.34871303e-01],\n",
       "       [2.80302327e-40, 1.16708276e-26, 1.35107566e-13, 4.34871303e-01]])"
      ]
     },
     "execution_count": 50,
     "metadata": {},
     "output_type": "execute_result"
    }
   ],
   "source": [
    "a.Wbarra"
   ]
  },
  {
   "cell_type": "code",
   "execution_count": 57,
   "id": "above-measurement",
   "metadata": {},
   "outputs": [
    {
     "data": {
      "text/plain": [
       "array([[0.00000000e+00, 0.00000000e+00, 3.86868968e-01, 0.00000000e+00,\n",
       "        0.00000000e+00, 2.03993076e-01, 0.00000000e+00, 0.00000000e+00,\n",
       "        2.99068051e-02, 0.00000000e+00, 0.00000000e+00, 1.21906729e-03,\n",
       "        0.00000000e+00, 0.00000000e+00, 2.03993076e-01, 0.00000000e+00,\n",
       "        0.00000000e+00, 1.07564003e-01, 0.00000000e+00, 0.00000000e+00,\n",
       "        1.57696318e-02, 0.00000000e+00, 0.00000000e+00, 6.42804947e-04,\n",
       "        0.00000000e+00, 0.00000000e+00, 2.99068051e-02, 0.00000000e+00,\n",
       "        0.00000000e+00, 1.57696318e-02, 0.00000000e+00, 0.00000000e+00,\n",
       "        2.31193781e-03, 0.00000000e+00, 0.00000000e+00, 9.42396806e-05,\n",
       "        0.00000000e+00, 0.00000000e+00, 1.21906729e-03, 0.00000000e+00,\n",
       "        0.00000000e+00, 6.42804947e-04, 0.00000000e+00, 0.00000000e+00,\n",
       "        9.42396806e-05, 0.00000000e+00, 0.00000000e+00, 3.84141708e-06],\n",
       "       [2.82636984e-01, 2.82636984e-01, 2.82636984e-01, 2.05236574e-01,\n",
       "        2.05236574e-01, 2.05236574e-01, 4.14365497e-02, 4.14365497e-02,\n",
       "        4.14365497e-02, 2.32603089e-03, 2.32603089e-03, 2.32603089e-03,\n",
       "        2.05236574e-01, 2.05236574e-01, 2.05236574e-01, 1.49032341e-01,\n",
       "        1.49032341e-01, 1.49032341e-01, 3.00891107e-02, 3.00891107e-02,\n",
       "        3.00891107e-02, 1.68904509e-03, 1.68904509e-03, 1.68904509e-03,\n",
       "        4.14365497e-02, 4.14365497e-02, 4.14365497e-02, 3.00891107e-02,\n",
       "        3.00891107e-02, 3.00891107e-02, 6.07488667e-03, 6.07488667e-03,\n",
       "        6.07488667e-03, 3.41012322e-04, 3.41012322e-04, 3.41012322e-04,\n",
       "        2.32603089e-03, 2.32603089e-03, 2.32603089e-03, 1.68904509e-03,\n",
       "        1.68904509e-03, 1.68904509e-03, 3.41012322e-04, 3.41012322e-04,\n",
       "        3.41012322e-04, 1.91426458e-05, 1.91426458e-05, 1.91426458e-05],\n",
       "       [2.15118405e-01, 4.30236809e-01, 1.07559202e-01, 4.07967941e-01,\n",
       "        8.15935882e-01, 2.03983971e-01, 2.15118405e-01, 4.30236809e-01,\n",
       "        1.07559202e-01, 3.15378558e-02, 6.30757116e-02, 1.57689279e-02,\n",
       "        2.15118405e-01, 4.30236809e-01, 1.07559202e-01, 4.07967941e-01,\n",
       "        8.15935882e-01, 2.03983971e-01, 2.15118405e-01, 4.30236809e-01,\n",
       "        1.07559202e-01, 3.15378558e-02, 6.30757116e-02, 1.57689279e-02,\n",
       "        5.98109405e-02, 1.19621881e-01, 2.99054703e-02, 1.13430305e-01,\n",
       "        2.26860610e-01, 5.67151525e-02, 5.98109405e-02, 1.19621881e-01,\n",
       "        2.99054703e-02, 8.76870029e-03, 1.75374006e-02, 4.38435015e-03,\n",
       "        4.62366923e-03, 9.24733846e-03, 2.31183462e-03, 8.76870029e-03,\n",
       "        1.75374006e-02, 4.38435015e-03, 4.62366923e-03, 9.24733846e-03,\n",
       "        2.31183462e-03, 6.77862100e-04, 1.35572420e-03, 3.38931050e-04],\n",
       "       [1.92135181e-02, 5.76405543e-02, 6.40450603e-03, 1.80478941e-01,\n",
       "        5.41436822e-01, 6.01596469e-02, 4.71356213e-01, 1.41406864e+00,\n",
       "        1.57118738e-01, 3.42274860e-01, 1.02682458e+00, 1.14091620e-01,\n",
       "        2.64594692e-02, 7.93784077e-02, 8.81982308e-03, 2.48542560e-01,\n",
       "        7.45627680e-01, 8.28475201e-02, 6.49117728e-01, 1.94735318e+00,\n",
       "        2.16372576e-01, 4.71356213e-01, 1.41406864e+00, 1.57118738e-01,\n",
       "        1.01311425e-02, 3.03934276e-02, 3.37704751e-03, 9.51651781e-02,\n",
       "        2.85495534e-01, 3.17217260e-02, 2.48542560e-01, 7.45627680e-01,\n",
       "        8.28475201e-02, 1.80478941e-01, 5.41436822e-01, 6.01596469e-02,\n",
       "        1.07854628e-03, 3.23563885e-03, 3.59515427e-04, 1.01311425e-02,\n",
       "        3.03934276e-02, 3.37704751e-03, 2.64594692e-02, 7.93784077e-02,\n",
       "        8.81982308e-03, 1.92135181e-02, 5.76405543e-02, 6.40450603e-03],\n",
       "       [5.81329102e-05, 2.32531641e-04, 1.45332275e-05, 5.12933830e-03,\n",
       "        2.05173532e-02, 1.28233457e-03, 1.25835647e-01, 5.03342587e-01,\n",
       "        3.14589117e-02, 8.58319720e-01, 3.43327888e+00, 2.14579930e-01,\n",
       "        1.10247953e-04, 4.40991810e-04, 2.75619881e-05, 9.72769201e-03,\n",
       "        3.89107680e-02, 2.43192300e-03, 2.38644898e-01, 9.54579592e-01,\n",
       "        5.96612245e-02, 1.62778694e+00, 6.51114775e+00, 4.06946734e-01,\n",
       "        5.81329102e-05, 2.32531641e-04, 1.45332275e-05, 5.12933830e-03,\n",
       "        2.05173532e-02, 1.28233457e-03, 1.25835647e-01, 5.03342587e-01,\n",
       "        3.14589117e-02, 8.58319720e-01, 3.43327888e+00, 2.14579930e-01,\n",
       "        8.52268936e-06, 3.40907574e-05, 2.13067234e-06, 7.51996706e-04,\n",
       "        3.00798682e-03, 1.87999176e-04, 1.84483819e-02, 7.37935276e-02,\n",
       "        4.61209547e-03, 1.25835647e-01, 5.03342587e-01, 3.14589117e-02],\n",
       "       [1.00850215e-08, 5.04251077e-08, 2.01700431e-09, 1.58520056e-05,\n",
       "        7.92600280e-05, 3.17040112e-06, 6.92778924e-03, 3.46389462e-02,\n",
       "        1.38555785e-03, 8.41798563e-01, 4.20899282e+00, 1.68359713e-01,\n",
       "        2.63390152e-08, 1.31695076e-07, 5.26780304e-09, 4.14006271e-05,\n",
       "        2.07003136e-04, 8.28012542e-06, 1.80932827e-02, 9.04664136e-02,\n",
       "        3.61865655e-03, 2.19852234e+00, 1.09926117e+01, 4.39704468e-01,\n",
       "        1.91260505e-08, 9.56302526e-08, 3.82521010e-09, 3.00630255e-05,\n",
       "        1.50315128e-04, 6.01260510e-06, 1.31384198e-02, 6.56920992e-02,\n",
       "        2.62768397e-03, 1.59645488e+00, 7.98227440e+00, 3.19290976e-01,\n",
       "        3.86148300e-09, 1.93074150e-08, 7.72296601e-10, 6.06962017e-06,\n",
       "        3.03481009e-05, 1.21392403e-06, 2.65260122e-03, 1.32630061e-02,\n",
       "        5.30520243e-04, 3.22318681e-01, 1.61159341e+00, 6.44637363e-02],\n",
       "       [2.02718752e-13, 1.21631251e-12, 3.37864586e-14, 1.07650955e-08,\n",
       "        6.45905729e-08, 1.79418258e-09, 1.58944283e-04, 9.53665700e-04,\n",
       "        2.64907139e-05, 6.52491716e-01, 3.91495029e+00, 1.08748619e-01,\n",
       "        7.29106315e-13, 4.37463789e-12, 1.21517719e-13, 3.87181701e-08,\n",
       "        2.32309020e-07, 6.45302835e-09, 5.71665324e-04, 3.42999194e-03,\n",
       "        9.52775540e-05, 2.34677763e+00, 1.40806658e+01, 3.91129604e-01,\n",
       "        7.29106315e-13, 4.37463789e-12, 1.21517719e-13, 3.87181701e-08,\n",
       "        2.32309020e-07, 6.45302835e-09, 5.71665324e-04, 3.42999194e-03,\n",
       "        9.52775540e-05, 2.34677763e+00, 1.40806658e+01, 3.91129604e-01,\n",
       "        2.02718752e-13, 1.21631251e-12, 3.37864586e-14, 1.07650955e-08,\n",
       "        6.45905729e-08, 1.79418258e-09, 1.58944283e-04, 9.53665700e-04,\n",
       "        2.64907139e-05, 6.52491716e-01, 3.91495029e+00, 1.08748619e-01],\n",
       "       [5.37406942e-19, 3.76184860e-18, 7.67724203e-20, 1.82848870e-12,\n",
       "        1.27994209e-11, 2.61212671e-13, 1.72975403e-06, 1.21082782e-05,\n",
       "        2.47107719e-07, 4.54966569e-01, 3.18476598e+00, 6.49952241e-02,\n",
       "        2.66179401e-18, 1.86325581e-17, 3.80256287e-19, 9.05656381e-12,\n",
       "        6.33959467e-11, 1.29379483e-12, 8.56752780e-06, 5.99726946e-05,\n",
       "        1.22393254e-06, 2.25346417e+00, 1.57742492e+01, 3.21923452e-01,\n",
       "        3.66563043e-18, 2.56594130e-17, 5.23661491e-19, 1.24720455e-11,\n",
       "        8.73043183e-11, 1.78172078e-12, 1.17985804e-05, 8.25900628e-05,\n",
       "        1.68551149e-06, 3.10330807e+00, 2.17231565e+01, 4.43329724e-01,\n",
       "        1.40354382e-18, 9.82480671e-18, 2.00506259e-19, 4.77545748e-12,\n",
       "        3.34282024e-11, 6.82208212e-13, 4.51759250e-06, 3.16231475e-05,\n",
       "        6.45370357e-07, 1.18823458e+00, 8.31764208e+00, 1.69747798e-01],\n",
       "       [1.90991763e-25, 1.52793411e-24, 2.38739704e-26, 7.89618218e-17,\n",
       "        6.31694574e-16, 9.87022772e-18, 9.07659053e-09, 7.26127243e-08,\n",
       "        1.13457382e-09, 2.90089087e-01, 2.32071270e+00, 3.62611359e-02,\n",
       "        1.30274689e-24, 1.04219751e-23, 1.62843361e-25, 5.38595307e-16,\n",
       "        4.30876246e-15, 6.73244134e-17, 6.19110471e-08, 4.95288377e-07,\n",
       "        7.73888088e-09, 1.97868561e+00, 1.58294849e+01, 2.47335702e-01,\n",
       "        2.47063456e-24, 1.97650765e-23, 3.08829320e-25, 1.02143570e-15,\n",
       "        8.17148561e-15, 1.27679463e-16, 1.17413117e-07, 9.39304936e-07,\n",
       "        1.46766396e-08, 3.75253943e+00, 3.00203155e+01, 4.69067429e-01,\n",
       "        1.30274689e-24, 1.04219751e-23, 1.62843361e-25, 5.38595307e-16,\n",
       "        4.30876246e-15, 6.73244134e-17, 6.19110471e-08, 4.95288377e-07,\n",
       "        7.73888088e-09, 1.97868561e+00, 1.58294849e+01, 2.47335702e-01],\n",
       "       [9.18118161e-33, 8.26306345e-32, 1.02013129e-33, 8.74707964e-22,\n",
       "        7.87237167e-21, 9.71897737e-23, 2.31702461e-11, 2.08532215e-10,\n",
       "        2.57447179e-12, 1.70648028e-01, 1.53583226e+00, 1.89608920e-02,\n",
       "        8.62418804e-32, 7.76176924e-31, 9.58243116e-33, 8.21642168e-21,\n",
       "        7.39477951e-20, 9.12935742e-22, 2.17645797e-10, 1.95881218e-09,\n",
       "        2.41828664e-11, 1.60295346e+00, 1.44265812e+01, 1.78105940e-01,\n",
       "        2.25237615e-31, 2.02713854e-30, 2.50264017e-32, 2.14587995e-20,\n",
       "        1.93129196e-19, 2.38431106e-21, 5.68424762e-10, 5.11582285e-09,\n",
       "        6.31583068e-11, 4.18642791e+00, 3.76778512e+01, 4.65158657e-01,\n",
       "        1.63556077e-31, 1.47200470e-30, 1.81728975e-32, 1.55822866e-20,\n",
       "        1.40240580e-19, 1.73136518e-21, 4.12761093e-10, 3.71484984e-09,\n",
       "        4.58623437e-11, 3.03997060e+00, 2.73597354e+01, 3.37774511e-01],\n",
       "       [6.02470647e-41, 6.02470647e-40, 6.02470647e-42, 2.50848117e-27,\n",
       "        2.50848117e-26, 2.50848117e-28, 2.90394817e-14, 2.90394817e-13,\n",
       "        2.90394817e-15, 9.34695043e-02, 9.34695043e-01, 9.34695043e-03,\n",
       "        7.79345023e-40, 7.79345023e-39, 7.79345023e-41, 3.24492541e-26,\n",
       "        3.24492541e-25, 3.24492541e-27, 3.75649430e-13, 3.75649430e-12,\n",
       "        3.75649430e-14, 1.20910443e+00, 1.20910443e+01, 1.20910443e-01,\n",
       "        2.80302327e-39, 2.80302327e-38, 2.80302327e-40, 1.16708276e-25,\n",
       "        1.16708276e-24, 1.16708276e-26, 1.35107566e-12, 1.35107566e-11,\n",
       "        1.35107566e-13, 4.34871303e+00, 4.34871303e+01, 4.34871303e-01,\n",
       "        2.80302327e-39, 2.80302327e-38, 2.80302327e-40, 1.16708276e-25,\n",
       "        1.16708276e-24, 1.16708276e-26, 1.35107566e-12, 1.35107566e-11,\n",
       "        1.35107566e-13, 4.34871303e+00, 4.34871303e+01, 4.34871303e-01]])"
      ]
     },
     "execution_count": 57,
     "metadata": {},
     "output_type": "execute_result"
    }
   ],
   "source": [
    "\n",
    "(a.covarienceMatrix)\n"
   ]
  },
  {
   "cell_type": "code",
   "execution_count": null,
   "id": "emerging-picking",
   "metadata": {},
   "outputs": [],
   "source": []
  },
  {
   "cell_type": "code",
   "execution_count": null,
   "id": "external-upgrade",
   "metadata": {},
   "outputs": [],
   "source": []
  },
  {
   "cell_type": "code",
   "execution_count": 86,
   "id": "proper-technical",
   "metadata": {},
   "outputs": [],
   "source": [
    "test_size = 60\n",
    "# Test function\n",
    "f = lambda x: 0.2*x**2-3.8*x-5.1\n",
    "# Gaussian noise to be added to the quadratic signal\n",
    "noise = np.random.randn(test_size)\n",
    "# You can play around with other noise (like sinusoidal)\n",
    "#noise = [np.sin(2*np.pi*i/13) for i in range(test_size)]\n",
    "y = np.array([f(i) for i in range(test_size)])\n",
    "noisy_y = y + noise\n",
    "lam = 0.98\n",
    "inputs = []\n",
    "# Not using the RLS.fit function because I want to remember all the predicted values\n",
    "for i in range(test_size):\n",
    "    inputs.append([i,i**2/30])\n"
   ]
  },
  {
   "cell_type": "code",
   "execution_count": 725,
   "id": "humanitarian-scope",
   "metadata": {},
   "outputs": [
    {
     "data": {
      "text/plain": [
       "1.0"
      ]
     },
     "execution_count": 725,
     "metadata": {},
     "output_type": "execute_result"
    }
   ],
   "source": [
    "np.array(inputs[1]).max()"
   ]
  },
  {
   "cell_type": "code",
   "execution_count": 726,
   "id": "approved-burning",
   "metadata": {},
   "outputs": [
    {
     "data": {
      "text/plain": [
       "list"
      ]
     },
     "execution_count": 726,
     "metadata": {},
     "output_type": "execute_result"
    }
   ],
   "source": [
    "type(inputs)"
   ]
  },
  {
   "cell_type": "code",
   "execution_count": 40,
   "id": "single-madonna",
   "metadata": {},
   "outputs": [
    {
     "ename": "NameError",
     "evalue": "name 'RLS' is not defined",
     "output_type": "error",
     "traceback": [
      "\u001b[1;31m---------------------------------------------------------------------------\u001b[0m",
      "\u001b[1;31mNameError\u001b[0m                                 Traceback (most recent call last)",
      "\u001b[1;32m<ipython-input-40-49bc7bc3e9ba>\u001b[0m in \u001b[0;36m<module>\u001b[1;34m\u001b[0m\n\u001b[0;32m      2\u001b[0m \u001b[0mpred_y\u001b[0m \u001b[1;33m=\u001b[0m \u001b[1;33m[\u001b[0m\u001b[1;33m]\u001b[0m\u001b[1;33m\u001b[0m\u001b[1;33m\u001b[0m\u001b[0m\n\u001b[0;32m      3\u001b[0m \u001b[1;33m\u001b[0m\u001b[0m\n\u001b[1;32m----> 4\u001b[1;33m \u001b[0mb\u001b[0m \u001b[1;33m=\u001b[0m \u001b[0mRLS\u001b[0m\u001b[1;33m(\u001b[0m\u001b[1;36m12\u001b[0m\u001b[1;33m,\u001b[0m\u001b[1;36m0.98\u001b[0m\u001b[1;33m,\u001b[0m\u001b[1;36m1\u001b[0m\u001b[1;33m)\u001b[0m\u001b[1;33m\u001b[0m\u001b[1;33m\u001b[0m\u001b[0m\n\u001b[0m\u001b[0;32m      5\u001b[0m \u001b[1;32mfor\u001b[0m \u001b[0mi\u001b[0m \u001b[1;32min\u001b[0m \u001b[0mrange\u001b[0m\u001b[1;33m(\u001b[0m\u001b[0ma\u001b[0m\u001b[1;33m.\u001b[0m\u001b[0mmaxiter\u001b[0m\u001b[1;33m)\u001b[0m\u001b[1;33m:\u001b[0m\u001b[1;33m\u001b[0m\u001b[1;33m\u001b[0m\u001b[0m\n\u001b[0;32m      6\u001b[0m     \u001b[0mx\u001b[0m \u001b[1;33m=\u001b[0m \u001b[0ma\u001b[0m\u001b[1;33m.\u001b[0m\u001b[0mcovarienceMatrix\u001b[0m\u001b[1;33m[\u001b[0m\u001b[0mi\u001b[0m\u001b[1;33m]\u001b[0m\u001b[1;33m.\u001b[0m\u001b[0mreshape\u001b[0m\u001b[1;33m(\u001b[0m\u001b[1;33m[\u001b[0m\u001b[1;36m12\u001b[0m\u001b[1;33m,\u001b[0m\u001b[1;36m1\u001b[0m\u001b[1;33m]\u001b[0m\u001b[1;33m)\u001b[0m\u001b[1;33m\u001b[0m\u001b[1;33m\u001b[0m\u001b[0m\n",
      "\u001b[1;31mNameError\u001b[0m: name 'RLS' is not defined"
     ]
    }
   ],
   "source": [
    "pred_x = []\n",
    "pred_y = []\n",
    "\n",
    "b = RLS(12,0.98,1)\n",
    "for i in range(a.maxiter):\n",
    "    x = a.covarienceMatrix[i].reshape([12,1])\n",
    "    b.add_obs(np.matrix(x),y[i])\n",
    "    e = np.matmul(a.covarienceMatrix[i],b.w)\n",
    "    pred_x.append(i)\n",
    "    pred_y.append(float(e))\n",
    "# plot the predicted values against the non-noisy output\n",
    "ax = plt.plot(pred_x, y-pred_y ) #points X error.\n",
    "yx = plt.plot(pred_x,y/100) #Valor real da função\n",
    "zx = plt.plot(pred_x,np.array(pred_y)/100,\"red\") # valor estimado pelo LSE\n",
    "plt.show()"
   ]
  },
  {
   "cell_type": "code",
   "execution_count": 728,
   "id": "chicken-nitrogen",
   "metadata": {},
   "outputs": [],
   "source": [
    "kk=y-pred_y"
   ]
  },
  {
   "cell_type": "code",
   "execution_count": 729,
   "id": "danish-promotion",
   "metadata": {},
   "outputs": [
    {
     "data": {
      "text/plain": [
       "array([-2.54026168, -2.47611316, -1.14003964, -0.34973863, -0.23795766,\n",
       "       -0.79331075, -0.88232225, -0.59051489, -0.11855034,  0.49663492,\n",
       "        0.92752558,  0.58700596, -0.32565418, -0.84684029, -0.90471684,\n",
       "       -0.46653901,  0.47179849,  1.56261235,  2.30905651,  2.54117478,\n",
       "        2.42257407,  2.15707043,  1.86288126,  1.58853792,  1.34799868,\n",
       "        1.14145852,  0.9646717 ,  0.81260577,  0.68069608,  0.56516346,\n",
       "        0.4629967 ,  0.37183535,  0.28983981,  0.21557673,  0.14792613,\n",
       "        0.08600855,  0.02912897, -0.02326624, -0.0716223 , -0.11630133,\n",
       "       -0.15760174, -0.19577323, -0.23102831, -0.26355116, -0.29350444,\n",
       "       -0.32103445, -0.34627507, -0.36935073, -0.39037847, -0.40946962,\n",
       "       -0.42673078, -0.44226465, -0.45617041, -0.46854407, -0.47947857,\n",
       "       -0.48906378, -0.49738655, -0.50453058, -0.51057639, -0.51560122])"
      ]
     },
     "execution_count": 729,
     "metadata": {},
     "output_type": "execute_result"
    }
   ],
   "source": [
    "kk"
   ]
  },
  {
   "cell_type": "code",
   "execution_count": 730,
   "id": "certain-creator",
   "metadata": {},
   "outputs": [
    {
     "data": {
      "text/plain": [
       "0.07317858837761217"
      ]
     },
     "execution_count": 730,
     "metadata": {},
     "output_type": "execute_result"
    }
   ],
   "source": [
    "kk.mean()"
   ]
  },
  {
   "cell_type": "code",
   "execution_count": null,
   "id": "unavailable-chambers",
   "metadata": {},
   "outputs": [],
   "source": []
  },
  {
   "cell_type": "code",
   "execution_count": 579,
   "id": "motivated-construction",
   "metadata": {},
   "outputs": [],
   "source": [
    "kkk = kk[:54]"
   ]
  },
  {
   "cell_type": "code",
   "execution_count": 580,
   "id": "hindu-meditation",
   "metadata": {},
   "outputs": [
    {
     "data": {
      "text/plain": [
       "array([-2.54026168, -2.47494131, -1.13283201, -0.33463441, -0.21543809,\n",
       "       -0.76624109, -0.87199308, -0.59792549, -0.2173146 , -0.01483906,\n",
       "       -0.26755904, -0.44097427, -0.38616119,  0.2010698 ,  1.12521926,\n",
       "        1.77699553,  1.93346672,  1.78717387,  1.5406311 ,  1.29013695,\n",
       "        1.06675131,  0.87539427,  0.71271889,  0.57368483,  0.4536396 ,\n",
       "        0.34880692,  0.2562652 ,  0.17379503,  0.09971869,  0.03276534,\n",
       "       -0.0280338 , -0.08342448, -0.13398822, -0.18018596, -0.22239026,\n",
       "       -0.2609092 , -0.29600394, -0.32790162, -0.35680482, -0.38289822,\n",
       "       -0.40635347, -0.42733241, -0.44598929, -0.46247214, -0.47692358,\n",
       "       -0.48948118, -0.50027765, -0.50944075, -0.51709317, -0.52335241,\n",
       "       -0.52833054, -0.53213413, -0.53486409, -0.53661566])"
      ]
     },
     "execution_count": 580,
     "metadata": {},
     "output_type": "execute_result"
    }
   ],
   "source": [
    "kkk"
   ]
  },
  {
   "cell_type": "code",
   "execution_count": 581,
   "id": "abandoned-stuff",
   "metadata": {},
   "outputs": [
    {
     "data": {
      "text/plain": [
       "-0.09585338972820914"
      ]
     },
     "execution_count": 581,
     "metadata": {},
     "output_type": "execute_result"
    }
   ],
   "source": [
    "kkk.mean()"
   ]
  },
  {
   "cell_type": "code",
   "execution_count": 308,
   "id": "senior-defensive",
   "metadata": {},
   "outputs": [
    {
     "data": {
      "text/plain": [
       "array([-5.100000e+00, -8.700000e+00, -1.190000e+01, -1.470000e+01,\n",
       "       -1.710000e+01, -1.910000e+01, -2.070000e+01, -2.190000e+01,\n",
       "       -2.270000e+01, -2.310000e+01, -2.310000e+01, -2.270000e+01,\n",
       "       -2.190000e+01, -2.070000e+01, -1.910000e+01, -1.710000e+01,\n",
       "       -1.470000e+01, -1.190000e+01, -8.700000e+00, -5.100000e+00,\n",
       "       -1.100000e+00,  3.300000e+00,  8.100000e+00,  1.330000e+01,\n",
       "        1.890000e+01,  2.490000e+01,  3.130000e+01,  3.810000e+01,\n",
       "        4.530000e+01,  5.290000e+01,  6.090000e+01,  6.930000e+01,\n",
       "        7.810000e+01,  8.730000e+01,  9.690000e+01,  1.069000e+02,\n",
       "        1.173000e+02,  1.281000e+02,  1.393000e+02,  1.509000e+02,\n",
       "        1.629000e+02,  1.753000e+02,  1.881000e+02,  2.013000e+02,\n",
       "        2.149000e+02,  2.289000e+02,  2.433000e+02,  2.581000e+02,\n",
       "        2.733000e+02,  2.889000e+02,  3.049000e+02,  3.213000e+02,\n",
       "        3.381000e+02,  3.553000e+02,  3.729000e+02,  3.909000e+02,\n",
       "        4.093000e+02,  4.281000e+02,  4.473000e+02,  4.669000e+02,\n",
       "        4.869000e+02,  5.073000e+02,  5.281000e+02,  5.493000e+02,\n",
       "        5.709000e+02,  5.929000e+02,  6.153000e+02,  6.381000e+02,\n",
       "        6.613000e+02,  6.849000e+02,  7.089000e+02,  7.333000e+02,\n",
       "        7.581000e+02,  7.833000e+02,  8.089000e+02,  8.349000e+02,\n",
       "        8.613000e+02,  8.881000e+02,  9.153000e+02,  9.429000e+02,\n",
       "        9.709000e+02,  9.993000e+02,  1.028100e+03,  1.057300e+03,\n",
       "        1.086900e+03,  1.116900e+03,  1.147300e+03,  1.178100e+03,\n",
       "        1.209300e+03,  1.240900e+03,  1.272900e+03,  1.305300e+03,\n",
       "        1.338100e+03,  1.371300e+03,  1.404900e+03,  1.438900e+03,\n",
       "        1.473300e+03,  1.508100e+03,  1.543300e+03,  1.578900e+03,\n",
       "        1.614900e+03,  1.651300e+03,  1.688100e+03,  1.725300e+03,\n",
       "        1.762900e+03,  1.800900e+03,  1.839300e+03,  1.878100e+03,\n",
       "        1.917300e+03,  1.956900e+03,  1.996900e+03,  2.037300e+03,\n",
       "        2.078100e+03,  2.119300e+03,  2.160900e+03,  2.202900e+03,\n",
       "        2.245300e+03,  2.288100e+03,  2.331300e+03,  2.374900e+03,\n",
       "        2.418900e+03,  2.463300e+03,  2.508100e+03,  2.553300e+03,\n",
       "        2.598900e+03,  2.644900e+03,  2.691300e+03,  2.738100e+03,\n",
       "        2.785300e+03,  2.832900e+03,  2.880900e+03,  2.929300e+03,\n",
       "        2.978100e+03,  3.027300e+03,  3.076900e+03,  3.126900e+03,\n",
       "        3.177300e+03,  3.228100e+03,  3.279300e+03,  3.330900e+03,\n",
       "        3.382900e+03,  3.435300e+03,  3.488100e+03,  3.541300e+03,\n",
       "        3.594900e+03,  3.648900e+03,  3.703300e+03,  3.758100e+03,\n",
       "        3.813300e+03,  3.868900e+03,  3.924900e+03,  3.981300e+03,\n",
       "        4.038100e+03,  4.095300e+03,  4.152900e+03,  4.210900e+03,\n",
       "        4.269300e+03,  4.328100e+03,  4.387300e+03,  4.446900e+03,\n",
       "        4.506900e+03,  4.567300e+03,  4.628100e+03,  4.689300e+03,\n",
       "        4.750900e+03,  4.812900e+03,  4.875300e+03,  4.938100e+03,\n",
       "        5.001300e+03,  5.064900e+03,  5.128900e+03,  5.193300e+03,\n",
       "        5.258100e+03,  5.323300e+03,  5.388900e+03,  5.454900e+03,\n",
       "        5.521300e+03,  5.588100e+03,  5.655300e+03,  5.722900e+03,\n",
       "        5.790900e+03,  5.859300e+03,  5.928100e+03,  5.997300e+03,\n",
       "        6.066900e+03,  6.136900e+03,  6.207300e+03,  6.278100e+03,\n",
       "        6.349300e+03,  6.420900e+03,  6.492900e+03,  6.565300e+03,\n",
       "        6.638100e+03,  6.711300e+03,  6.784900e+03,  6.858900e+03,\n",
       "        6.933300e+03,  7.008100e+03,  7.083300e+03,  7.158900e+03,\n",
       "        7.234900e+03,  7.311300e+03,  7.388100e+03,  7.465300e+03,\n",
       "        7.542900e+03,  7.620900e+03,  7.699300e+03,  7.778100e+03,\n",
       "        7.857300e+03,  7.936900e+03,  8.016900e+03,  8.097300e+03,\n",
       "        8.178100e+03,  8.259300e+03,  8.340900e+03,  8.422900e+03,\n",
       "        8.505300e+03,  8.588100e+03,  8.671300e+03,  8.754900e+03,\n",
       "        8.838900e+03,  8.923300e+03,  9.008100e+03,  9.093300e+03,\n",
       "        9.178900e+03,  9.264900e+03,  9.351300e+03,  9.438100e+03,\n",
       "        9.525300e+03,  9.612900e+03,  9.700900e+03,  9.789300e+03,\n",
       "        9.878100e+03,  9.967300e+03,  1.005690e+04,  1.014690e+04,\n",
       "        1.023730e+04,  1.032810e+04,  1.041930e+04,  1.051090e+04,\n",
       "        1.060290e+04,  1.069530e+04,  1.078810e+04,  1.088130e+04,\n",
       "        1.097490e+04,  1.106890e+04,  1.116330e+04,  1.125810e+04,\n",
       "        1.135330e+04,  1.144890e+04,  1.154490e+04,  1.164130e+04,\n",
       "        1.173810e+04,  1.183530e+04,  1.193290e+04,  1.203090e+04,\n",
       "        1.212930e+04,  1.222810e+04,  1.232730e+04,  1.242690e+04,\n",
       "        1.252690e+04,  1.262730e+04,  1.272810e+04,  1.282930e+04,\n",
       "        1.293090e+04,  1.303290e+04,  1.313530e+04,  1.323810e+04,\n",
       "        1.334130e+04,  1.344490e+04,  1.354890e+04,  1.365330e+04,\n",
       "        1.375810e+04,  1.386330e+04,  1.396890e+04,  1.407490e+04,\n",
       "        1.418130e+04,  1.428810e+04,  1.439530e+04,  1.450290e+04,\n",
       "        1.461090e+04,  1.471930e+04,  1.482810e+04,  1.493730e+04,\n",
       "        1.504690e+04,  1.515690e+04,  1.526730e+04,  1.537810e+04,\n",
       "        1.548930e+04,  1.560090e+04,  1.571290e+04,  1.582530e+04,\n",
       "        1.593810e+04,  1.605130e+04,  1.616490e+04,  1.627890e+04,\n",
       "        1.639330e+04,  1.650810e+04,  1.662330e+04,  1.673890e+04,\n",
       "        1.685490e+04,  1.697130e+04,  1.708810e+04,  1.720530e+04,\n",
       "        1.732290e+04,  1.744090e+04,  1.755930e+04,  1.767810e+04,\n",
       "        1.779730e+04,  1.791690e+04,  1.803690e+04,  1.815730e+04,\n",
       "        1.827810e+04,  1.839930e+04,  1.852090e+04,  1.864290e+04,\n",
       "        1.876530e+04,  1.888810e+04,  1.901130e+04,  1.913490e+04,\n",
       "        1.925890e+04,  1.938330e+04,  1.950810e+04,  1.963330e+04,\n",
       "        1.975890e+04,  1.988490e+04,  2.001130e+04,  2.013810e+04,\n",
       "        2.026530e+04,  2.039290e+04,  2.052090e+04,  2.064930e+04,\n",
       "        2.077810e+04,  2.090730e+04,  2.103690e+04,  2.116690e+04,\n",
       "        2.129730e+04,  2.142810e+04,  2.155930e+04,  2.169090e+04,\n",
       "        2.182290e+04,  2.195530e+04,  2.208810e+04,  2.222130e+04,\n",
       "        2.235490e+04,  2.248890e+04,  2.262330e+04,  2.275810e+04,\n",
       "        2.289330e+04,  2.302890e+04,  2.316490e+04,  2.330130e+04,\n",
       "        2.343810e+04,  2.357530e+04,  2.371290e+04,  2.385090e+04,\n",
       "        2.398930e+04,  2.412810e+04,  2.426730e+04,  2.440690e+04,\n",
       "        2.454690e+04,  2.468730e+04,  2.482810e+04,  2.496930e+04,\n",
       "        2.511090e+04,  2.525290e+04,  2.539530e+04,  2.553810e+04,\n",
       "        2.568130e+04,  2.582490e+04,  2.596890e+04,  2.611330e+04,\n",
       "        2.625810e+04,  2.640330e+04,  2.654890e+04,  2.669490e+04,\n",
       "        2.684130e+04,  2.698810e+04,  2.713530e+04,  2.728290e+04,\n",
       "        2.743090e+04,  2.757930e+04,  2.772810e+04,  2.787730e+04,\n",
       "        2.802690e+04,  2.817690e+04,  2.832730e+04,  2.847810e+04,\n",
       "        2.862930e+04,  2.878090e+04,  2.893290e+04,  2.908530e+04,\n",
       "        2.923810e+04,  2.939130e+04,  2.954490e+04,  2.969890e+04,\n",
       "        2.985330e+04,  3.000810e+04,  3.016330e+04,  3.031890e+04,\n",
       "        3.047490e+04,  3.063130e+04,  3.078810e+04,  3.094530e+04,\n",
       "        3.110290e+04,  3.126090e+04,  3.141930e+04,  3.157810e+04,\n",
       "        3.173730e+04,  3.189690e+04,  3.205690e+04,  3.221730e+04,\n",
       "        3.237810e+04,  3.253930e+04,  3.270090e+04,  3.286290e+04,\n",
       "        3.302530e+04,  3.318810e+04,  3.335130e+04,  3.351490e+04,\n",
       "        3.367890e+04,  3.384330e+04,  3.400810e+04,  3.417330e+04,\n",
       "        3.433890e+04,  3.450490e+04,  3.467130e+04,  3.483810e+04,\n",
       "        3.500530e+04,  3.517290e+04,  3.534090e+04,  3.550930e+04,\n",
       "        3.567810e+04,  3.584730e+04,  3.601690e+04,  3.618690e+04,\n",
       "        3.635730e+04,  3.652810e+04,  3.669930e+04,  3.687090e+04,\n",
       "        3.704290e+04,  3.721530e+04,  3.738810e+04,  3.756130e+04,\n",
       "        3.773490e+04,  3.790890e+04,  3.808330e+04,  3.825810e+04,\n",
       "        3.843330e+04,  3.860890e+04,  3.878490e+04,  3.896130e+04,\n",
       "        3.913810e+04,  3.931530e+04,  3.949290e+04,  3.967090e+04,\n",
       "        3.984930e+04,  4.002810e+04,  4.020730e+04,  4.038690e+04,\n",
       "        4.056690e+04,  4.074730e+04,  4.092810e+04,  4.110930e+04,\n",
       "        4.129090e+04,  4.147290e+04,  4.165530e+04,  4.183810e+04,\n",
       "        4.202130e+04,  4.220490e+04,  4.238890e+04,  4.257330e+04,\n",
       "        4.275810e+04,  4.294330e+04,  4.312890e+04,  4.331490e+04,\n",
       "        4.350130e+04,  4.368810e+04,  4.387530e+04,  4.406290e+04,\n",
       "        4.425090e+04,  4.443930e+04,  4.462810e+04,  4.481730e+04,\n",
       "        4.500690e+04,  4.519690e+04,  4.538730e+04,  4.557810e+04,\n",
       "        4.576930e+04,  4.596090e+04,  4.615290e+04,  4.634530e+04,\n",
       "        4.653810e+04,  4.673130e+04,  4.692490e+04,  4.711890e+04,\n",
       "        4.731330e+04,  4.750810e+04,  4.770330e+04,  4.789890e+04,\n",
       "        4.809490e+04,  4.829130e+04,  4.848810e+04,  4.868530e+04,\n",
       "        4.888290e+04,  4.908090e+04,  4.927930e+04,  4.947810e+04,\n",
       "        4.967730e+04,  4.987690e+04,  5.007690e+04,  5.027730e+04,\n",
       "        5.047810e+04,  5.067930e+04,  5.088090e+04,  5.108290e+04,\n",
       "        5.128530e+04,  5.148810e+04,  5.169130e+04,  5.189490e+04,\n",
       "        5.209890e+04,  5.230330e+04,  5.250810e+04,  5.271330e+04,\n",
       "        5.291890e+04,  5.312490e+04,  5.333130e+04,  5.353810e+04,\n",
       "        5.374530e+04,  5.395290e+04,  5.416090e+04,  5.436930e+04,\n",
       "        5.457810e+04,  5.478730e+04,  5.499690e+04,  5.520690e+04,\n",
       "        5.541730e+04,  5.562810e+04,  5.583930e+04,  5.605090e+04,\n",
       "        5.626290e+04,  5.647530e+04,  5.668810e+04,  5.690130e+04,\n",
       "        5.711490e+04,  5.732890e+04,  5.754330e+04,  5.775810e+04,\n",
       "        5.797330e+04,  5.818890e+04,  5.840490e+04,  5.862130e+04,\n",
       "        5.883810e+04,  5.905530e+04,  5.927290e+04,  5.949090e+04,\n",
       "        5.970930e+04,  5.992810e+04,  6.014730e+04,  6.036690e+04,\n",
       "        6.058690e+04,  6.080730e+04,  6.102810e+04,  6.124930e+04,\n",
       "        6.147090e+04,  6.169290e+04,  6.191530e+04,  6.213810e+04,\n",
       "        6.236130e+04,  6.258490e+04,  6.280890e+04,  6.303330e+04,\n",
       "        6.325810e+04,  6.348330e+04,  6.370890e+04,  6.393490e+04,\n",
       "        6.416130e+04,  6.438810e+04,  6.461530e+04,  6.484290e+04,\n",
       "        6.507090e+04,  6.529930e+04,  6.552810e+04,  6.575730e+04,\n",
       "        6.598690e+04,  6.621690e+04,  6.644730e+04,  6.667810e+04,\n",
       "        6.690930e+04,  6.714090e+04,  6.737290e+04,  6.760530e+04,\n",
       "        6.783810e+04,  6.807130e+04,  6.830490e+04,  6.853890e+04,\n",
       "        6.877330e+04,  6.900810e+04,  6.924330e+04,  6.947890e+04,\n",
       "        6.971490e+04,  6.995130e+04,  7.018810e+04,  7.042530e+04,\n",
       "        7.066290e+04,  7.090090e+04,  7.113930e+04,  7.137810e+04,\n",
       "        7.161730e+04,  7.185690e+04,  7.209690e+04,  7.233730e+04,\n",
       "        7.257810e+04,  7.281930e+04,  7.306090e+04,  7.330290e+04,\n",
       "        7.354530e+04,  7.378810e+04,  7.403130e+04,  7.427490e+04,\n",
       "        7.451890e+04,  7.476330e+04,  7.500810e+04,  7.525330e+04,\n",
       "        7.549890e+04,  7.574490e+04,  7.599130e+04,  7.623810e+04,\n",
       "        7.648530e+04,  7.673290e+04,  7.698090e+04,  7.722930e+04,\n",
       "        7.747810e+04,  7.772730e+04,  7.797690e+04,  7.822690e+04,\n",
       "        7.847730e+04,  7.872810e+04,  7.897930e+04,  7.923090e+04,\n",
       "        7.948290e+04,  7.973530e+04,  7.998810e+04,  8.024130e+04,\n",
       "        8.049490e+04,  8.074890e+04,  8.100330e+04,  8.125810e+04,\n",
       "        8.151330e+04,  8.176890e+04,  8.202490e+04,  8.228130e+04,\n",
       "        8.253810e+04,  8.279530e+04,  8.305290e+04,  8.331090e+04,\n",
       "        8.356930e+04,  8.382810e+04,  8.408730e+04,  8.434690e+04,\n",
       "        8.460690e+04,  8.486730e+04,  8.512810e+04,  8.538930e+04,\n",
       "        8.565090e+04,  8.591290e+04,  8.617530e+04,  8.643810e+04,\n",
       "        8.670130e+04,  8.696490e+04,  8.722890e+04,  8.749330e+04,\n",
       "        8.775810e+04,  8.802330e+04,  8.828890e+04,  8.855490e+04,\n",
       "        8.882130e+04,  8.908810e+04,  8.935530e+04,  8.962290e+04,\n",
       "        8.989090e+04,  9.015930e+04,  9.042810e+04,  9.069730e+04,\n",
       "        9.096690e+04,  9.123690e+04,  9.150730e+04,  9.177810e+04,\n",
       "        9.204930e+04,  9.232090e+04,  9.259290e+04,  9.286530e+04,\n",
       "        9.313810e+04,  9.341130e+04,  9.368490e+04,  9.395890e+04,\n",
       "        9.423330e+04,  9.450810e+04,  9.478330e+04,  9.505890e+04,\n",
       "        9.533490e+04,  9.561130e+04,  9.588810e+04,  9.616530e+04,\n",
       "        9.644290e+04,  9.672090e+04,  9.699930e+04,  9.727810e+04,\n",
       "        9.755730e+04,  9.783690e+04,  9.811690e+04,  9.839730e+04,\n",
       "        9.867810e+04,  9.895930e+04,  9.924090e+04,  9.952290e+04,\n",
       "        9.980530e+04,  1.000881e+05,  1.003713e+05,  1.006549e+05,\n",
       "        1.009389e+05,  1.012233e+05,  1.015081e+05,  1.017933e+05,\n",
       "        1.020789e+05,  1.023649e+05,  1.026513e+05,  1.029381e+05,\n",
       "        1.032253e+05,  1.035129e+05,  1.038009e+05,  1.040893e+05,\n",
       "        1.043781e+05,  1.046673e+05,  1.049569e+05,  1.052469e+05,\n",
       "        1.055373e+05,  1.058281e+05,  1.061193e+05,  1.064109e+05,\n",
       "        1.067029e+05,  1.069953e+05,  1.072881e+05,  1.075813e+05,\n",
       "        1.078749e+05,  1.081689e+05,  1.084633e+05,  1.087581e+05,\n",
       "        1.090533e+05,  1.093489e+05,  1.096449e+05,  1.099413e+05,\n",
       "        1.102381e+05,  1.105353e+05,  1.108329e+05,  1.111309e+05,\n",
       "        1.114293e+05,  1.117281e+05,  1.120273e+05,  1.123269e+05,\n",
       "        1.126269e+05,  1.129273e+05,  1.132281e+05,  1.135293e+05,\n",
       "        1.138309e+05,  1.141329e+05,  1.144353e+05,  1.147381e+05,\n",
       "        1.150413e+05,  1.153449e+05,  1.156489e+05,  1.159533e+05,\n",
       "        1.162581e+05,  1.165633e+05,  1.168689e+05,  1.171749e+05,\n",
       "        1.174813e+05,  1.177881e+05,  1.180953e+05,  1.184029e+05,\n",
       "        1.187109e+05,  1.190193e+05,  1.193281e+05,  1.196373e+05,\n",
       "        1.199469e+05,  1.202569e+05,  1.205673e+05,  1.208781e+05,\n",
       "        1.211893e+05,  1.215009e+05,  1.218129e+05,  1.221253e+05,\n",
       "        1.224381e+05,  1.227513e+05,  1.230649e+05,  1.233789e+05,\n",
       "        1.236933e+05,  1.240081e+05,  1.243233e+05,  1.246389e+05,\n",
       "        1.249549e+05,  1.252713e+05,  1.255881e+05,  1.259053e+05,\n",
       "        1.262229e+05,  1.265409e+05,  1.268593e+05,  1.271781e+05,\n",
       "        1.274973e+05,  1.278169e+05,  1.281369e+05,  1.284573e+05,\n",
       "        1.287781e+05,  1.290993e+05,  1.294209e+05,  1.297429e+05,\n",
       "        1.300653e+05,  1.303881e+05,  1.307113e+05,  1.310349e+05,\n",
       "        1.313589e+05,  1.316833e+05,  1.320081e+05,  1.323333e+05,\n",
       "        1.326589e+05,  1.329849e+05,  1.333113e+05,  1.336381e+05,\n",
       "        1.339653e+05,  1.342929e+05,  1.346209e+05,  1.349493e+05,\n",
       "        1.352781e+05,  1.356073e+05,  1.359369e+05,  1.362669e+05,\n",
       "        1.365973e+05,  1.369281e+05,  1.372593e+05,  1.375909e+05,\n",
       "        1.379229e+05,  1.382553e+05,  1.385881e+05,  1.389213e+05,\n",
       "        1.392549e+05,  1.395889e+05,  1.399233e+05,  1.402581e+05,\n",
       "        1.405933e+05,  1.409289e+05,  1.412649e+05,  1.416013e+05,\n",
       "        1.419381e+05,  1.422753e+05,  1.426129e+05,  1.429509e+05,\n",
       "        1.432893e+05,  1.436281e+05,  1.439673e+05,  1.443069e+05,\n",
       "        1.446469e+05,  1.449873e+05,  1.453281e+05,  1.456693e+05,\n",
       "        1.460109e+05,  1.463529e+05,  1.466953e+05,  1.470381e+05,\n",
       "        1.473813e+05,  1.477249e+05,  1.480689e+05,  1.484133e+05,\n",
       "        1.487581e+05,  1.491033e+05,  1.494489e+05,  1.497949e+05,\n",
       "        1.501413e+05,  1.504881e+05,  1.508353e+05,  1.511829e+05,\n",
       "        1.515309e+05,  1.518793e+05,  1.522281e+05,  1.525773e+05,\n",
       "        1.529269e+05,  1.532769e+05,  1.536273e+05,  1.539781e+05,\n",
       "        1.543293e+05,  1.546809e+05,  1.550329e+05,  1.553853e+05,\n",
       "        1.557381e+05,  1.560913e+05,  1.564449e+05,  1.567989e+05,\n",
       "        1.571533e+05,  1.575081e+05,  1.578633e+05,  1.582189e+05,\n",
       "        1.585749e+05,  1.589313e+05,  1.592881e+05,  1.596453e+05,\n",
       "        1.600029e+05,  1.603609e+05,  1.607193e+05,  1.610781e+05,\n",
       "        1.614373e+05,  1.617969e+05,  1.621569e+05,  1.625173e+05,\n",
       "        1.628781e+05,  1.632393e+05,  1.636009e+05,  1.639629e+05,\n",
       "        1.643253e+05,  1.646881e+05,  1.650513e+05,  1.654149e+05,\n",
       "        1.657789e+05,  1.661433e+05,  1.665081e+05,  1.668733e+05,\n",
       "        1.672389e+05,  1.676049e+05,  1.679713e+05,  1.683381e+05,\n",
       "        1.687053e+05,  1.690729e+05,  1.694409e+05,  1.698093e+05,\n",
       "        1.701781e+05,  1.705473e+05,  1.709169e+05,  1.712869e+05,\n",
       "        1.716573e+05,  1.720281e+05,  1.723993e+05,  1.727709e+05,\n",
       "        1.731429e+05,  1.735153e+05,  1.738881e+05,  1.742613e+05,\n",
       "        1.746349e+05,  1.750089e+05,  1.753833e+05,  1.757581e+05,\n",
       "        1.761333e+05,  1.765089e+05,  1.768849e+05,  1.772613e+05,\n",
       "        1.776381e+05,  1.780153e+05,  1.783929e+05,  1.787709e+05,\n",
       "        1.791493e+05,  1.795281e+05,  1.799073e+05,  1.802869e+05,\n",
       "        1.806669e+05,  1.810473e+05,  1.814281e+05,  1.818093e+05,\n",
       "        1.821909e+05,  1.825729e+05,  1.829553e+05,  1.833381e+05,\n",
       "        1.837213e+05,  1.841049e+05,  1.844889e+05,  1.848733e+05,\n",
       "        1.852581e+05,  1.856433e+05,  1.860289e+05,  1.864149e+05,\n",
       "        1.868013e+05,  1.871881e+05,  1.875753e+05,  1.879629e+05,\n",
       "        1.883509e+05,  1.887393e+05,  1.891281e+05,  1.895173e+05,\n",
       "        1.899069e+05,  1.902969e+05,  1.906873e+05,  1.910781e+05,\n",
       "        1.914693e+05,  1.918609e+05,  1.922529e+05,  1.926453e+05,\n",
       "        1.930381e+05,  1.934313e+05,  1.938249e+05,  1.942189e+05,\n",
       "        1.946133e+05,  1.950081e+05,  1.954033e+05,  1.957989e+05])"
      ]
     },
     "execution_count": 308,
     "metadata": {},
     "output_type": "execute_result"
    }
   ],
   "source": [
    "y"
   ]
  },
  {
   "cell_type": "code",
   "execution_count": 457,
   "id": "diagnostic-router",
   "metadata": {},
   "outputs": [
    {
     "data": {
      "text/plain": [
       "<matplotlib.collections.PathCollection at 0x26919b7a070>"
      ]
     },
     "execution_count": 457,
     "metadata": {},
     "output_type": "execute_result"
    },
    {
     "data": {
      "image/png": "[encoded data removed]",
      "text/plain": [
       "<Figure size 842.4x595.44 with 1 Axes>"
      ]
     },
     "metadata": {},
     "output_type": "display_data"
    }
   ],
   "source": [
    "pyplot.scatter([[0],[1]],[2,2])\n",
    "pyplot.scatter([[0],[1]],[[np.matmul(a.covarienceMatrix[0],b.w)],[np.matmul(a.covarienceMatrix[1],b.w)]])"
   ]
  },
  {
   "cell_type": "code",
   "execution_count": 190,
   "id": "criminal-oasis",
   "metadata": {},
   "outputs": [
    {
     "data": {
      "text/plain": [
       "matrix([[ 3.45389152e-01],\n",
       "        [-9.89742535e-03],\n",
       "        [-9.89742535e-03],\n",
       "        [-1.18504615e-03],\n",
       "        [ 3.45389152e-01],\n",
       "        [-9.89742535e-03],\n",
       "        [-9.89742535e-03],\n",
       "        [-1.18504615e-03],\n",
       "        [ 2.56030321e-01],\n",
       "        [-2.70680372e-04],\n",
       "        [-2.70680372e-04],\n",
       "        [-3.29922841e-04]])"
      ]
     },
     "execution_count": 190,
     "metadata": {},
     "output_type": "execute_result"
    }
   ],
   "source": [
    "b.w"
   ]
  },
  {
   "cell_type": "code",
   "execution_count": 189,
   "id": "previous-retail",
   "metadata": {},
   "outputs": [
    {
     "ename": "ValueError",
     "evalue": "shapes (1,12) and (1,12) not aligned: 12 (dim 1) != 1 (dim 0)",
     "output_type": "error",
     "traceback": [
      "\u001b[1;31m---------------------------------------------------------------------------\u001b[0m",
      "\u001b[1;31mValueError\u001b[0m                                Traceback (most recent call last)",
      "\u001b[1;32m<ipython-input-189-82de4f968dd2>\u001b[0m in \u001b[0;36m<module>\u001b[1;34m\u001b[0m\n\u001b[1;32m----> 1\u001b[1;33m \u001b[0mb\u001b[0m\u001b[1;33m.\u001b[0m\u001b[0mpredict\u001b[0m\u001b[1;33m(\u001b[0m\u001b[1;33m[\u001b[0m\u001b[1;36m1\u001b[0m\u001b[1;33m,\u001b[0m\u001b[1;36m1\u001b[0m\u001b[1;33m,\u001b[0m\u001b[1;36m1\u001b[0m\u001b[1;33m,\u001b[0m\u001b[1;36m1\u001b[0m\u001b[1;33m,\u001b[0m\u001b[1;36m1\u001b[0m\u001b[1;33m,\u001b[0m\u001b[1;36m1\u001b[0m\u001b[1;33m,\u001b[0m\u001b[1;36m1\u001b[0m\u001b[1;33m,\u001b[0m\u001b[1;36m1\u001b[0m\u001b[1;33m,\u001b[0m\u001b[1;36m1\u001b[0m\u001b[1;33m,\u001b[0m\u001b[1;36m1\u001b[0m\u001b[1;33m,\u001b[0m\u001b[1;36m1\u001b[0m\u001b[1;33m,\u001b[0m\u001b[1;36m1\u001b[0m\u001b[1;33m]\u001b[0m\u001b[1;33m)\u001b[0m\u001b[1;33m\u001b[0m\u001b[1;33m\u001b[0m\u001b[0m\n\u001b[0m",
      "\u001b[1;32m<ipython-input-165-4049331d8330>\u001b[0m in \u001b[0;36mpredict\u001b[1;34m(self, x)\u001b[0m\n\u001b[0;32m     58\u001b[0m         \u001b[0mPredict\u001b[0m \u001b[0mthe\u001b[0m \u001b[0mvalue\u001b[0m \u001b[0mof\u001b[0m \u001b[0mobservation\u001b[0m \u001b[0mx\u001b[0m\u001b[1;33m.\u001b[0m \u001b[0mx\u001b[0m \u001b[0mshould\u001b[0m \u001b[0mbe\u001b[0m \u001b[0ma\u001b[0m \u001b[0mnumpy\u001b[0m \u001b[0mmatrix\u001b[0m \u001b[1;33m(\u001b[0m\u001b[0mcol\u001b[0m \u001b[0mvector\u001b[0m\u001b[1;33m)\u001b[0m\u001b[1;33m\u001b[0m\u001b[1;33m\u001b[0m\u001b[0m\n\u001b[0;32m     59\u001b[0m         '''\n\u001b[1;32m---> 60\u001b[1;33m         \u001b[1;32mreturn\u001b[0m \u001b[0mfloat\u001b[0m\u001b[1;33m(\u001b[0m\u001b[0mself\u001b[0m\u001b[1;33m.\u001b[0m\u001b[0mw\u001b[0m\u001b[1;33m.\u001b[0m\u001b[0mT\u001b[0m\u001b[1;33m*\u001b[0m\u001b[0mx\u001b[0m\u001b[1;33m)\u001b[0m\u001b[1;33m\u001b[0m\u001b[1;33m\u001b[0m\u001b[0m\n\u001b[0m",
      "\u001b[1;32mD:\\ProgramData\\Anaconda3\\lib\\site-packages\\numpy\\matrixlib\\defmatrix.py\u001b[0m in \u001b[0;36m__mul__\u001b[1;34m(self, other)\u001b[0m\n\u001b[0;32m    216\u001b[0m         \u001b[1;32mif\u001b[0m \u001b[0misinstance\u001b[0m\u001b[1;33m(\u001b[0m\u001b[0mother\u001b[0m\u001b[1;33m,\u001b[0m \u001b[1;33m(\u001b[0m\u001b[0mN\u001b[0m\u001b[1;33m.\u001b[0m\u001b[0mndarray\u001b[0m\u001b[1;33m,\u001b[0m \u001b[0mlist\u001b[0m\u001b[1;33m,\u001b[0m \u001b[0mtuple\u001b[0m\u001b[1;33m)\u001b[0m\u001b[1;33m)\u001b[0m \u001b[1;33m:\u001b[0m\u001b[1;33m\u001b[0m\u001b[1;33m\u001b[0m\u001b[0m\n\u001b[0;32m    217\u001b[0m             \u001b[1;31m# This promotes 1-D vectors to row vectors\u001b[0m\u001b[1;33m\u001b[0m\u001b[1;33m\u001b[0m\u001b[1;33m\u001b[0m\u001b[0m\n\u001b[1;32m--> 218\u001b[1;33m             \u001b[1;32mreturn\u001b[0m \u001b[0mN\u001b[0m\u001b[1;33m.\u001b[0m\u001b[0mdot\u001b[0m\u001b[1;33m(\u001b[0m\u001b[0mself\u001b[0m\u001b[1;33m,\u001b[0m \u001b[0masmatrix\u001b[0m\u001b[1;33m(\u001b[0m\u001b[0mother\u001b[0m\u001b[1;33m)\u001b[0m\u001b[1;33m)\u001b[0m\u001b[1;33m\u001b[0m\u001b[1;33m\u001b[0m\u001b[0m\n\u001b[0m\u001b[0;32m    219\u001b[0m         \u001b[1;32mif\u001b[0m \u001b[0misscalar\u001b[0m\u001b[1;33m(\u001b[0m\u001b[0mother\u001b[0m\u001b[1;33m)\u001b[0m \u001b[1;32mor\u001b[0m \u001b[1;32mnot\u001b[0m \u001b[0mhasattr\u001b[0m\u001b[1;33m(\u001b[0m\u001b[0mother\u001b[0m\u001b[1;33m,\u001b[0m \u001b[1;34m'__rmul__'\u001b[0m\u001b[1;33m)\u001b[0m \u001b[1;33m:\u001b[0m\u001b[1;33m\u001b[0m\u001b[1;33m\u001b[0m\u001b[0m\n\u001b[0;32m    220\u001b[0m             \u001b[1;32mreturn\u001b[0m \u001b[0mN\u001b[0m\u001b[1;33m.\u001b[0m\u001b[0mdot\u001b[0m\u001b[1;33m(\u001b[0m\u001b[0mself\u001b[0m\u001b[1;33m,\u001b[0m \u001b[0mother\u001b[0m\u001b[1;33m)\u001b[0m\u001b[1;33m\u001b[0m\u001b[1;33m\u001b[0m\u001b[0m\n",
      "\u001b[1;32m<__array_function__ internals>\u001b[0m in \u001b[0;36mdot\u001b[1;34m(*args, **kwargs)\u001b[0m\n",
      "\u001b[1;31mValueError\u001b[0m: shapes (1,12) and (1,12) not aligned: 12 (dim 1) != 1 (dim 0)"
     ]
    }
   ],
   "source": [
    "b.predict([1,1,1,1,1,1,1,1,1,1,1,1])"
   ]
  },
  {
   "cell_type": "code",
   "execution_count": 204,
   "id": "extra-liberty",
   "metadata": {},
   "outputs": [
    {
     "name": "stdout",
     "output_type": "stream",
     "text": [
      "This data describes the world copper market from 1951 through 1975.  In an\n",
      "example, in Gill, the outcome variable (of a 2 stage estimation) is the world\n",
      "consumption of copper for the 25 years.  The explanatory variables are the\n",
      "world consumption of copper in 1000 metric tons, the constant dollar adjusted\n",
      "price of copper, the price of a substitute, aluminum, an index of real per\n",
      "capita income base 1970, an annual measure of manufacturer inventory change,\n",
      "and a time trend.\n",
      "\n"
     ]
    }
   ],
   "source": [
    "print(sm.datasets.copper.DESCRLONG)\n",
    "\n",
    "dta = sm.datasets.copper.load_pandas().data\n",
    "dta.index = pd.date_range('1951-01-01', '1975-01-01', freq='AS')\n",
    "endog = dta['WORLDCONSUMPTION']\n",
    "\n",
    "# To the regressors in the dataset, we add a column of ones for an intercept\n",
    "exog = sm.add_constant(dta[['COPPERPRICE', 'INCOMEINDEX', 'ALUMPRICE', 'INVENTORYINDEX']])"
   ]
  },
  {
   "cell_type": "code",
   "execution_count": 207,
   "id": "congressional-purple",
   "metadata": {},
   "outputs": [
    {
     "name": "stdout",
     "output_type": "stream",
     "text": [
      "                           Statespace Model Results                           \n",
      "==============================================================================\n",
      "Dep. Variable:       WORLDCONSUMPTION   No. Observations:                   25\n",
      "Model:                    RecursiveLS   Log Likelihood                -154.720\n",
      "Date:                Mon, 03 May 2021   R-squared:                       0.965\n",
      "Time:                        21:01:03   AIC                            319.441\n",
      "Sample:                    01-01-1951   BIC                            325.535\n",
      "                         - 01-01-1975   HQIC                           321.131\n",
      "Covariance Type:            nonrobust   Scale                       117717.127\n",
      "==================================================================================\n",
      "                     coef    std err          z      P>|z|      [0.025      0.975]\n",
      "----------------------------------------------------------------------------------\n",
      "const          -6562.3719   2378.939     -2.759      0.006   -1.12e+04   -1899.737\n",
      "COPPERPRICE      -13.8132     15.041     -0.918      0.358     -43.292      15.666\n",
      "INCOMEINDEX      1.21e+04    763.401     15.853      0.000    1.06e+04    1.36e+04\n",
      "ALUMPRICE         70.4146     32.678      2.155      0.031       6.367     134.462\n",
      "INVENTORYINDEX   311.7330   2130.084      0.146      0.884   -3863.155    4486.621\n",
      "===================================================================================\n",
      "Ljung-Box (L1) (Q):                   2.17   Jarque-Bera (JB):                 1.70\n",
      "Prob(Q):                              0.14   Prob(JB):                         0.43\n",
      "Heteroskedasticity (H):               3.38   Skew:                            -0.67\n",
      "Prob(H) (two-sided):                  0.13   Kurtosis:                         2.53\n",
      "===================================================================================\n",
      "\n",
      "Warnings:\n",
      "[1] Parameters and covariance matrix estimates are RLS estimates conditional on the entire sample.\n"
     ]
    }
   ],
   "source": [
    "mod = sm.RecursiveLS(endog, exog)\n",
    "res = mod.fit()\n",
    "\n",
    "print(res.summary())"
   ]
  },
  {
   "cell_type": "code",
   "execution_count": 225,
   "id": "express-movie",
   "metadata": {},
   "outputs": [
    {
     "name": "stdout",
     "output_type": "stream",
     "text": [
      "[ 2.88890087e+00  4.94795049e+00  1.55841803e+03  1.95843327e+03\n",
      " -5.14749565e+04 -4.16895011e+03 -2.25261351e+03 -4.46559100e+02\n",
      " -5.28839794e+03 -6.94231935e+03 -7.84608902e+03 -6.64315120e+03\n",
      " -6.27411015e+03 -7.27201695e+03 -6.31902648e+03 -5.82223929e+03\n",
      " -6.25630902e+03 -6.73740445e+03 -6.47742841e+03 -5.99590746e+03\n",
      " -6.45080677e+03 -6.02292166e+03 -5.25835152e+03 -5.32089136e+03\n",
      " -6.56237193e+03]\n"
     ]
    },
    {
     "data": {
      "image/png": "[encoded data removed]",
      "text/plain": [
       "<Figure size 720x432 with 5 Axes>"
      ]
     },
     "metadata": {
      "needs_background": "light"
     },
     "output_type": "display_data"
    }
   ],
   "source": [
    "\n",
    "print(res.recursive_coefficients.filtered[0])\n",
    "res.plot_recursive_coefficient(range(mod.k_exog), alpha=None, figsize=(10,6));"
   ]
  },
  {
   "cell_type": "code",
   "execution_count": 226,
   "id": "black-focus",
   "metadata": {},
   "outputs": [
    {
     "name": "stdout",
     "output_type": "stream",
     "text": [
      "[ 0.69971508  0.65841243  1.24629673  2.05476031  2.39888918  3.17861979\n",
      "  2.67244671  2.01783214  2.46131746  2.05268637  0.95054335 -1.04505547\n",
      " -2.55465287 -2.29908153 -1.45289493 -1.95353994 -1.35046621  0.15789828\n",
      "  0.63286529 -1.48184587]\n"
     ]
    },
    {
     "data": {
      "image/png": "[encoded data removed]",
      "text/plain": [
       "<Figure size 432x288 with 1 Axes>"
      ]
     },
     "metadata": {
      "needs_background": "light"
     },
     "output_type": "display_data"
    }
   ],
   "source": [
    "print(res.cusum)\n",
    "fig = res.plot_cusum();"
   ]
  },
  {
   "cell_type": "code",
   "execution_count": 227,
   "id": "dress-election",
   "metadata": {},
   "outputs": [
    {
     "data": {
      "image/png": "[encoded data removed]",
      "text/plain": [
       "<Figure size 432x288 with 1 Axes>"
      ]
     },
     "metadata": {
      "needs_background": "light"
     },
     "output_type": "display_data"
    }
   ],
   "source": [
    "res.plot_cusum_squares();"
   ]
  },
  {
   "cell_type": "code",
   "execution_count": 240,
   "id": "domestic-dublin",
   "metadata": {},
   "outputs": [
    {
     "data": {
      "text/html": [
       "<div>\n",
       "<style scoped>\n",
       "    .dataframe tbody tr th:only-of-type {\n",
       "        vertical-align: middle;\n",
       "    }\n",
       "\n",
       "    .dataframe tbody tr th {\n",
       "        vertical-align: top;\n",
       "    }\n",
       "\n",
       "    .dataframe thead th {\n",
       "        text-align: right;\n",
       "    }\n",
       "</style>\n",
       "<table border=\"1\" class=\"dataframe\">\n",
       "  <thead>\n",
       "    <tr style=\"text-align: right;\">\n",
       "      <th></th>\n",
       "      <th>0</th>\n",
       "      <th>1</th>\n",
       "      <th>2</th>\n",
       "      <th>3</th>\n",
       "      <th>4</th>\n",
       "      <th>5</th>\n",
       "      <th>6</th>\n",
       "      <th>7</th>\n",
       "      <th>8</th>\n",
       "      <th>9</th>\n",
       "      <th>10</th>\n",
       "      <th>11</th>\n",
       "      <th>12</th>\n",
       "    </tr>\n",
       "  </thead>\n",
       "  <tbody>\n",
       "    <tr>\n",
       "      <th>0</th>\n",
       "      <td>1.0</td>\n",
       "      <td>1.916720</td>\n",
       "      <td>0.041197</td>\n",
       "      <td>0.041197</td>\n",
       "      <td>0.000885</td>\n",
       "      <td>1.916720</td>\n",
       "      <td>0.041197</td>\n",
       "      <td>0.041197</td>\n",
       "      <td>0.000885</td>\n",
       "      <td>0.958360</td>\n",
       "      <td>0.020599</td>\n",
       "      <td>0.020599</td>\n",
       "      <td>0.000443</td>\n",
       "    </tr>\n",
       "    <tr>\n",
       "      <th>1</th>\n",
       "      <td>1.0</td>\n",
       "      <td>2.689568</td>\n",
       "      <td>0.150978</td>\n",
       "      <td>0.150978</td>\n",
       "      <td>0.008475</td>\n",
       "      <td>2.689568</td>\n",
       "      <td>0.150978</td>\n",
       "      <td>0.150978</td>\n",
       "      <td>0.008475</td>\n",
       "      <td>0.896523</td>\n",
       "      <td>0.050326</td>\n",
       "      <td>0.050326</td>\n",
       "      <td>0.002825</td>\n",
       "    </tr>\n",
       "  </tbody>\n",
       "</table>\n",
       "</div>"
      ],
      "text/plain": [
       "    0         1         2         3         4         5         6         7   \\\n",
       "0  1.0  1.916720  0.041197  0.041197  0.000885  1.916720  0.041197  0.041197   \n",
       "1  1.0  2.689568  0.150978  0.150978  0.008475  2.689568  0.150978  0.150978   \n",
       "\n",
       "         8         9         10        11        12  \n",
       "0  0.000885  0.958360  0.020599  0.020599  0.000443  \n",
       "1  0.008475  0.896523  0.050326  0.050326  0.002825  "
      ]
     },
     "execution_count": 240,
     "metadata": {},
     "output_type": "execute_result"
    }
   ],
   "source": [
    "pd.DataFrame(sm.add_constant(a.covarienceMatrix))"
   ]
  },
  {
   "cell_type": "code",
   "execution_count": 244,
   "id": "little-adrian",
   "metadata": {},
   "outputs": [
    {
     "data": {
      "text/plain": [
       "0    2\n",
       "1    3\n",
       "Name: 0, dtype: int64"
      ]
     },
     "execution_count": 244,
     "metadata": {},
     "output_type": "execute_result"
    }
   ],
   "source": [
    "pd.DataFrame([2,3])[0]"
   ]
  },
  {
   "cell_type": "code",
   "execution_count": 250,
   "id": "blessed-spelling",
   "metadata": {},
   "outputs": [],
   "source": [
    "final = sm.RecursiveLS(pd.DataFrame(sm.add_constant(a.covarienceMatrix)),pd.DataFrame([2,3])[0])"
   ]
  },
  {
   "cell_type": "code",
   "execution_count": 251,
   "id": "common-niger",
   "metadata": {},
   "outputs": [],
   "source": [
    "suma = final.fit()"
   ]
  },
  {
   "cell_type": "code",
   "execution_count": 252,
   "id": "normal-bradford",
   "metadata": {},
   "outputs": [
    {
     "name": "stdout",
     "output_type": "stream",
     "text": [
      "                           Statespace Model Results                           \n",
      "==============================================================================\n",
      "Dep. Variable:                      0   No. Observations:                    2\n",
      "Model:                    RecursiveLS   Log Likelihood                  -2.338\n",
      "Date:                Mon, 03 May 2021   R-squared:                       0.962\n",
      "Time:                        21:09:12   AIC                              6.676\n",
      "Sample:                             0   BIC                              5.369\n",
      "                                  - 2   HQIC                             3.943\n",
      "Covariance Type:            nonrobust   Scale                            0.077\n",
      "==============================================================================\n",
      "                 coef    std err          z      P>|z|      [0.025      0.975]\n",
      "------------------------------------------------------------------------------\n",
      "0              0.3846      0.077      5.000      0.000       0.234       0.535\n",
      "==========================================================================================================================================================================================\n",
      "Ljung-Box (L1) (Q):     nan, nan, nan, nan, nan, nan, nan, nan, nan, nan, nan, nan, nan   Jarque-Bera (JB):   0.38, 0.38, 0.38, 0.38, 0.38, 0.38, 0.38, 0.38, 0.38, 0.38, 0.38, 0.38, 0.38\n",
      "Prob(Q):                nan, nan, nan, nan, nan, nan, nan, nan, nan, nan, nan, nan, nan   Prob(JB):           0.83, 0.83, 0.83, 0.83, 0.83, 0.83, 0.83, 0.83, 0.83, 0.83, 0.83, 0.83, 0.83\n",
      "Heteroskedasticity (H): nan, nan, nan, nan, nan, nan, nan, nan, nan, nan, nan, nan, nan   Skew:               0.00, 0.00, 0.00, 0.00, 0.00, 0.00, 0.00, 0.00, 0.00, 0.00, 0.00, 0.00, 0.00\n",
      "Prob(H) (two-sided):    nan, nan, nan, nan, nan, nan, nan, nan, nan, nan, nan, nan, nan   Kurtosis:           0.00, 0.00, 0.00, 0.00, 0.00, 0.00, 0.00, 0.00, 0.00, 0.00, 0.00, 0.00, 0.00\n",
      "==========================================================================================================================================================================================\n",
      "\n",
      "Warnings:\n",
      "[1] Parameters and covariance matrix estimates are RLS estimates conditional on the entire sample.\n"
     ]
    },
    {
     "name": "stderr",
     "output_type": "stream",
     "text": [
      "D:\\ProgramData\\Anaconda3\\lib\\site-packages\\statsmodels\\tsa\\statespace\\mlemodel.py:3103: UserWarning: Later subset of data for variable 0  has too few non-missing observations to calculate test statistic.\n",
      "  warnings.warn('Later subset of data for variable %d'\n",
      "D:\\ProgramData\\Anaconda3\\lib\\site-packages\\statsmodels\\tsa\\statespace\\mlemodel.py:3103: UserWarning: Later subset of data for variable 1  has too few non-missing observations to calculate test statistic.\n",
      "  warnings.warn('Later subset of data for variable %d'\n",
      "D:\\ProgramData\\Anaconda3\\lib\\site-packages\\statsmodels\\tsa\\statespace\\mlemodel.py:3103: UserWarning: Later subset of data for variable 2  has too few non-missing observations to calculate test statistic.\n",
      "  warnings.warn('Later subset of data for variable %d'\n",
      "D:\\ProgramData\\Anaconda3\\lib\\site-packages\\statsmodels\\tsa\\statespace\\mlemodel.py:3103: UserWarning: Later subset of data for variable 3  has too few non-missing observations to calculate test statistic.\n",
      "  warnings.warn('Later subset of data for variable %d'\n",
      "D:\\ProgramData\\Anaconda3\\lib\\site-packages\\statsmodels\\tsa\\statespace\\mlemodel.py:3103: UserWarning: Later subset of data for variable 4  has too few non-missing observations to calculate test statistic.\n",
      "  warnings.warn('Later subset of data for variable %d'\n",
      "D:\\ProgramData\\Anaconda3\\lib\\site-packages\\statsmodels\\tsa\\statespace\\mlemodel.py:3103: UserWarning: Later subset of data for variable 5  has too few non-missing observations to calculate test statistic.\n",
      "  warnings.warn('Later subset of data for variable %d'\n",
      "D:\\ProgramData\\Anaconda3\\lib\\site-packages\\statsmodels\\tsa\\statespace\\mlemodel.py:3103: UserWarning: Later subset of data for variable 6  has too few non-missing observations to calculate test statistic.\n",
      "  warnings.warn('Later subset of data for variable %d'\n",
      "D:\\ProgramData\\Anaconda3\\lib\\site-packages\\statsmodels\\tsa\\statespace\\mlemodel.py:3103: UserWarning: Later subset of data for variable 7  has too few non-missing observations to calculate test statistic.\n",
      "  warnings.warn('Later subset of data for variable %d'\n",
      "D:\\ProgramData\\Anaconda3\\lib\\site-packages\\statsmodels\\tsa\\statespace\\mlemodel.py:3103: UserWarning: Later subset of data for variable 8  has too few non-missing observations to calculate test statistic.\n",
      "  warnings.warn('Later subset of data for variable %d'\n",
      "D:\\ProgramData\\Anaconda3\\lib\\site-packages\\statsmodels\\tsa\\statespace\\mlemodel.py:3103: UserWarning: Later subset of data for variable 9  has too few non-missing observations to calculate test statistic.\n",
      "  warnings.warn('Later subset of data for variable %d'\n",
      "D:\\ProgramData\\Anaconda3\\lib\\site-packages\\statsmodels\\tsa\\statespace\\mlemodel.py:3103: UserWarning: Later subset of data for variable 10  has too few non-missing observations to calculate test statistic.\n",
      "  warnings.warn('Later subset of data for variable %d'\n",
      "D:\\ProgramData\\Anaconda3\\lib\\site-packages\\statsmodels\\tsa\\statespace\\mlemodel.py:3103: UserWarning: Later subset of data for variable 11  has too few non-missing observations to calculate test statistic.\n",
      "  warnings.warn('Later subset of data for variable %d'\n",
      "D:\\ProgramData\\Anaconda3\\lib\\site-packages\\statsmodels\\tsa\\statespace\\mlemodel.py:3103: UserWarning: Later subset of data for variable 12  has too few non-missing observations to calculate test statistic.\n",
      "  warnings.warn('Later subset of data for variable %d'\n",
      "D:\\ProgramData\\Anaconda3\\lib\\site-packages\\statsmodels\\tsa\\stattools.py:672: RuntimeWarning: invalid value encountered in true_divide\n",
      "  acf = avf[: nlags + 1] / avf[0]\n"
     ]
    }
   ],
   "source": [
    "print(suma.summary())"
   ]
  },
  {
   "cell_type": "code",
   "execution_count": 205,
   "id": "close-terminology",
   "metadata": {},
   "outputs": [
    {
     "data": {
      "text/html": [
       "<div>\n",
       "<style scoped>\n",
       "    .dataframe tbody tr th:only-of-type {\n",
       "        vertical-align: middle;\n",
       "    }\n",
       "\n",
       "    .dataframe tbody tr th {\n",
       "        vertical-align: top;\n",
       "    }\n",
       "\n",
       "    .dataframe thead th {\n",
       "        text-align: right;\n",
       "    }\n",
       "</style>\n",
       "<table border=\"1\" class=\"dataframe\">\n",
       "  <thead>\n",
       "    <tr style=\"text-align: right;\">\n",
       "      <th></th>\n",
       "      <th>const</th>\n",
       "      <th>COPPERPRICE</th>\n",
       "      <th>INCOMEINDEX</th>\n",
       "      <th>ALUMPRICE</th>\n",
       "      <th>INVENTORYINDEX</th>\n",
       "    </tr>\n",
       "  </thead>\n",
       "  <tbody>\n",
       "    <tr>\n",
       "      <th>1951-01-01</th>\n",
       "      <td>1.0</td>\n",
       "      <td>26.56</td>\n",
       "      <td>0.70</td>\n",
       "      <td>19.76</td>\n",
       "      <td>0.98</td>\n",
       "    </tr>\n",
       "    <tr>\n",
       "      <th>1952-01-01</th>\n",
       "      <td>1.0</td>\n",
       "      <td>27.31</td>\n",
       "      <td>0.71</td>\n",
       "      <td>20.78</td>\n",
       "      <td>1.04</td>\n",
       "    </tr>\n",
       "    <tr>\n",
       "      <th>1953-01-01</th>\n",
       "      <td>1.0</td>\n",
       "      <td>32.95</td>\n",
       "      <td>0.72</td>\n",
       "      <td>22.55</td>\n",
       "      <td>1.05</td>\n",
       "    </tr>\n",
       "    <tr>\n",
       "      <th>1954-01-01</th>\n",
       "      <td>1.0</td>\n",
       "      <td>33.90</td>\n",
       "      <td>0.70</td>\n",
       "      <td>23.06</td>\n",
       "      <td>0.97</td>\n",
       "    </tr>\n",
       "    <tr>\n",
       "      <th>1955-01-01</th>\n",
       "      <td>1.0</td>\n",
       "      <td>42.70</td>\n",
       "      <td>0.74</td>\n",
       "      <td>24.93</td>\n",
       "      <td>1.02</td>\n",
       "    </tr>\n",
       "    <tr>\n",
       "      <th>1956-01-01</th>\n",
       "      <td>1.0</td>\n",
       "      <td>46.11</td>\n",
       "      <td>0.74</td>\n",
       "      <td>26.50</td>\n",
       "      <td>1.04</td>\n",
       "    </tr>\n",
       "    <tr>\n",
       "      <th>1957-01-01</th>\n",
       "      <td>1.0</td>\n",
       "      <td>31.70</td>\n",
       "      <td>0.74</td>\n",
       "      <td>27.24</td>\n",
       "      <td>0.98</td>\n",
       "    </tr>\n",
       "    <tr>\n",
       "      <th>1958-01-01</th>\n",
       "      <td>1.0</td>\n",
       "      <td>27.23</td>\n",
       "      <td>0.72</td>\n",
       "      <td>26.21</td>\n",
       "      <td>0.98</td>\n",
       "    </tr>\n",
       "    <tr>\n",
       "      <th>1959-01-01</th>\n",
       "      <td>1.0</td>\n",
       "      <td>32.89</td>\n",
       "      <td>0.75</td>\n",
       "      <td>26.09</td>\n",
       "      <td>1.03</td>\n",
       "    </tr>\n",
       "    <tr>\n",
       "      <th>1960-01-01</th>\n",
       "      <td>1.0</td>\n",
       "      <td>33.78</td>\n",
       "      <td>0.77</td>\n",
       "      <td>27.40</td>\n",
       "      <td>1.03</td>\n",
       "    </tr>\n",
       "    <tr>\n",
       "      <th>1961-01-01</th>\n",
       "      <td>1.0</td>\n",
       "      <td>31.66</td>\n",
       "      <td>0.76</td>\n",
       "      <td>26.94</td>\n",
       "      <td>0.98</td>\n",
       "    </tr>\n",
       "    <tr>\n",
       "      <th>1962-01-01</th>\n",
       "      <td>1.0</td>\n",
       "      <td>32.28</td>\n",
       "      <td>0.79</td>\n",
       "      <td>25.18</td>\n",
       "      <td>1.00</td>\n",
       "    </tr>\n",
       "    <tr>\n",
       "      <th>1963-01-01</th>\n",
       "      <td>1.0</td>\n",
       "      <td>32.38</td>\n",
       "      <td>0.83</td>\n",
       "      <td>23.94</td>\n",
       "      <td>0.97</td>\n",
       "    </tr>\n",
       "    <tr>\n",
       "      <th>1964-01-01</th>\n",
       "      <td>1.0</td>\n",
       "      <td>33.75</td>\n",
       "      <td>0.85</td>\n",
       "      <td>25.07</td>\n",
       "      <td>1.03</td>\n",
       "    </tr>\n",
       "    <tr>\n",
       "      <th>1965-01-01</th>\n",
       "      <td>1.0</td>\n",
       "      <td>36.25</td>\n",
       "      <td>0.89</td>\n",
       "      <td>25.37</td>\n",
       "      <td>1.08</td>\n",
       "    </tr>\n",
       "    <tr>\n",
       "      <th>1966-01-01</th>\n",
       "      <td>1.0</td>\n",
       "      <td>36.24</td>\n",
       "      <td>0.93</td>\n",
       "      <td>24.55</td>\n",
       "      <td>1.05</td>\n",
       "    </tr>\n",
       "    <tr>\n",
       "      <th>1967-01-01</th>\n",
       "      <td>1.0</td>\n",
       "      <td>38.23</td>\n",
       "      <td>0.95</td>\n",
       "      <td>24.98</td>\n",
       "      <td>1.03</td>\n",
       "    </tr>\n",
       "    <tr>\n",
       "      <th>1968-01-01</th>\n",
       "      <td>1.0</td>\n",
       "      <td>40.83</td>\n",
       "      <td>0.99</td>\n",
       "      <td>24.96</td>\n",
       "      <td>1.03</td>\n",
       "    </tr>\n",
       "    <tr>\n",
       "      <th>1969-01-01</th>\n",
       "      <td>1.0</td>\n",
       "      <td>44.62</td>\n",
       "      <td>1.00</td>\n",
       "      <td>25.52</td>\n",
       "      <td>0.99</td>\n",
       "    </tr>\n",
       "    <tr>\n",
       "      <th>1970-01-01</th>\n",
       "      <td>1.0</td>\n",
       "      <td>52.27</td>\n",
       "      <td>1.00</td>\n",
       "      <td>26.01</td>\n",
       "      <td>1.00</td>\n",
       "    </tr>\n",
       "    <tr>\n",
       "      <th>1971-01-01</th>\n",
       "      <td>1.0</td>\n",
       "      <td>45.16</td>\n",
       "      <td>1.02</td>\n",
       "      <td>25.46</td>\n",
       "      <td>0.96</td>\n",
       "    </tr>\n",
       "    <tr>\n",
       "      <th>1972-01-01</th>\n",
       "      <td>1.0</td>\n",
       "      <td>42.50</td>\n",
       "      <td>1.07</td>\n",
       "      <td>22.17</td>\n",
       "      <td>0.97</td>\n",
       "    </tr>\n",
       "    <tr>\n",
       "      <th>1973-01-01</th>\n",
       "      <td>1.0</td>\n",
       "      <td>43.70</td>\n",
       "      <td>1.12</td>\n",
       "      <td>18.56</td>\n",
       "      <td>0.98</td>\n",
       "    </tr>\n",
       "    <tr>\n",
       "      <th>1974-01-01</th>\n",
       "      <td>1.0</td>\n",
       "      <td>47.88</td>\n",
       "      <td>1.10</td>\n",
       "      <td>21.32</td>\n",
       "      <td>1.01</td>\n",
       "    </tr>\n",
       "    <tr>\n",
       "      <th>1975-01-01</th>\n",
       "      <td>1.0</td>\n",
       "      <td>36.33</td>\n",
       "      <td>1.07</td>\n",
       "      <td>22.75</td>\n",
       "      <td>0.94</td>\n",
       "    </tr>\n",
       "  </tbody>\n",
       "</table>\n",
       "</div>"
      ],
      "text/plain": [
       "            const  COPPERPRICE  INCOMEINDEX  ALUMPRICE  INVENTORYINDEX\n",
       "1951-01-01    1.0        26.56         0.70      19.76            0.98\n",
       "1952-01-01    1.0        27.31         0.71      20.78            1.04\n",
       "1953-01-01    1.0        32.95         0.72      22.55            1.05\n",
       "1954-01-01    1.0        33.90         0.70      23.06            0.97\n",
       "1955-01-01    1.0        42.70         0.74      24.93            1.02\n",
       "1956-01-01    1.0        46.11         0.74      26.50            1.04\n",
       "1957-01-01    1.0        31.70         0.74      27.24            0.98\n",
       "1958-01-01    1.0        27.23         0.72      26.21            0.98\n",
       "1959-01-01    1.0        32.89         0.75      26.09            1.03\n",
       "1960-01-01    1.0        33.78         0.77      27.40            1.03\n",
       "1961-01-01    1.0        31.66         0.76      26.94            0.98\n",
       "1962-01-01    1.0        32.28         0.79      25.18            1.00\n",
       "1963-01-01    1.0        32.38         0.83      23.94            0.97\n",
       "1964-01-01    1.0        33.75         0.85      25.07            1.03\n",
       "1965-01-01    1.0        36.25         0.89      25.37            1.08\n",
       "1966-01-01    1.0        36.24         0.93      24.55            1.05\n",
       "1967-01-01    1.0        38.23         0.95      24.98            1.03\n",
       "1968-01-01    1.0        40.83         0.99      24.96            1.03\n",
       "1969-01-01    1.0        44.62         1.00      25.52            0.99\n",
       "1970-01-01    1.0        52.27         1.00      26.01            1.00\n",
       "1971-01-01    1.0        45.16         1.02      25.46            0.96\n",
       "1972-01-01    1.0        42.50         1.07      22.17            0.97\n",
       "1973-01-01    1.0        43.70         1.12      18.56            0.98\n",
       "1974-01-01    1.0        47.88         1.10      21.32            1.01\n",
       "1975-01-01    1.0        36.33         1.07      22.75            0.94"
      ]
     },
     "execution_count": 205,
     "metadata": {},
     "output_type": "execute_result"
    }
   ],
   "source": [
    "exog"
   ]
  },
  {
   "cell_type": "code",
   "execution_count": 206,
   "id": "liberal-klein",
   "metadata": {},
   "outputs": [
    {
     "data": {
      "text/plain": [
       "1951-01-01    3173.0\n",
       "1952-01-01    3281.1\n",
       "1953-01-01    3135.7\n",
       "1954-01-01    3359.1\n",
       "1955-01-01    3755.1\n",
       "1956-01-01    3875.9\n",
       "1957-01-01    3905.7\n",
       "1958-01-01    3957.6\n",
       "1959-01-01    4279.1\n",
       "1960-01-01    4627.9\n",
       "1961-01-01    4910.2\n",
       "1962-01-01    4908.4\n",
       "1963-01-01    5327.9\n",
       "1964-01-01    5878.4\n",
       "1965-01-01    6075.2\n",
       "1966-01-01    6312.7\n",
       "1967-01-01    6056.8\n",
       "1968-01-01    6375.9\n",
       "1969-01-01    6974.3\n",
       "1970-01-01    7101.6\n",
       "1971-01-01    7071.7\n",
       "1972-01-01    7754.8\n",
       "1973-01-01    8480.3\n",
       "1974-01-01    8105.2\n",
       "1975-01-01    7157.2\n",
       "Freq: AS-JAN, Name: WORLDCONSUMPTION, dtype: float64"
      ]
     },
     "execution_count": 206,
     "metadata": {},
     "output_type": "execute_result"
    }
   ],
   "source": [
    "endog"
   ]
  },
  {
   "cell_type": "code",
   "execution_count": 43,
   "id": "dense-crest",
   "metadata": {},
   "outputs": [],
   "source": [
    "import matplotlib.pyplot as plt\n",
    "import seaborn as sns\n",
    "import numpy as np\n",
    "import math\n",
    "import pandas as pd\n",
    "sns.set()\n",
    "from matplotlib import rcParams\n",
    "rcParams['figure.figsize'] = 11.7,8.27"
   ]
  },
  {
   "cell_type": "code",
   "execution_count": 42,
   "id": "bridal-february",
   "metadata": {
    "scrolled": false
   },
   "outputs": [
    {
     "name": "stdout",
     "output_type": "stream",
     "text": [
      "[[-5.0499613 ]\n",
      " [-3.79996091]\n",
      " [ 0.19999991]]\n"
     ]
    },
    {
     "data": {
      "image/png": "[encoded data removed]",
      "text/plain": [
       "<Figure size 432x288 with 1 Axes>"
      ]
     },
     "metadata": {
      "needs_background": "light"
     },
     "output_type": "display_data"
    }
   ],
   "source": [
    "test_size = 1000\n",
    "# Test function\n",
    "f = lambda x: 0.2*x**2-3.8*x-5.1\n",
    "# Gaussian noise to be added to the quadratic signal\n",
    "noise = np.random.randn(test_size)\n",
    "# You can play around with other noise (like sinusoidal)\n",
    "#noise = [np.sin(2*np.pi*i/13) for i in range(test_size)]\n",
    "y = np.array([f(i) for i in range(test_size)])\n",
    "noisy_y = y + noise\n",
    "lam = 0.98\n",
    "LS = RLS(3,lam,1)\n",
    "# Not using the RLS.fit function because I want to remember all the predicted values\n",
    "pred_x = []\n",
    "pred_y = []\n",
    "for i in range(test_size):\n",
    "    x = np.matrix(np.zeros((1,3)))\n",
    "    x[0,0] = 1\n",
    "    x[0,1] = i\n",
    "    x[0,2] = i**2\n",
    "    pred_x.append(i)\n",
    "    pred_y.append(float(x*LS.w))\n",
    "    LS.add_obs(x.T,noisy_y[i])\n",
    "print(LS.w)\n",
    "# plot the predicted values against the non-noisy output\n",
    "ax = plt.plot(pred_x, y - pred_y) # points X error.\n",
    "plt.show()"
   ]
  },
  {
   "cell_type": "code",
   "execution_count": null,
   "id": "bizarre-testimony",
   "metadata": {},
   "outputs": [],
   "source": []
  },
  {
   "cell_type": "code",
   "execution_count": 145,
   "id": "maritime-printer",
   "metadata": {},
   "outputs": [
    {
     "data": {
      "text/plain": [
       "0.01831563888873418"
      ]
     },
     "execution_count": 145,
     "metadata": {},
     "output_type": "execute_result"
    }
   ],
   "source": [
    "np.exp((-np.power(2 - 12, 2) / (np.power(5, 2))))"
   ]
  },
  {
   "cell_type": "code",
   "execution_count": 140,
   "id": "comparative-receiver",
   "metadata": {},
   "outputs": [
    {
     "data": {
      "text/plain": [
       "(12, 12)"
      ]
     },
     "execution_count": 140,
     "metadata": {},
     "output_type": "execute_result"
    }
   ],
   "source": [
    "b.A.shape"
   ]
  },
  {
   "cell_type": "code",
   "execution_count": 235,
   "id": "dressed-drain",
   "metadata": {},
   "outputs": [
    {
     "ename": "IndentationError",
     "evalue": "unexpected indent (<ipython-input-235-a39681aed19e>, line 3)",
     "output_type": "error",
     "traceback": [
      "\u001b[1;36m  File \u001b[1;32m\"<ipython-input-235-a39681aed19e>\"\u001b[1;36m, line \u001b[1;32m3\u001b[0m\n\u001b[1;33m    9.8374\u001b[0m\n\u001b[1;37m    ^\u001b[0m\n\u001b[1;31mIndentationError\u001b[0m\u001b[1;31m:\u001b[0m unexpected indent\n"
     ]
    }
   ],
   "source": [
    "x =[1,2,3]\n",
    "mu = 1485e-01, 8.09594359e-03, 8.09594359e-03, 6.66275678e-05,\n",
    "        9.8374\n",
    "sig = 1\n",
    "np.exp((-np.power(x - mu, 2.) / (np.power(sig, 2.))))"
   ]
  },
  {
   "cell_type": "code",
   "execution_count": 151,
   "id": "demonstrated-treasury",
   "metadata": {},
   "outputs": [
    {
     "data": {
      "text/plain": [
       "NoneType"
      ]
     },
     "execution_count": 151,
     "metadata": {},
     "output_type": "execute_result"
    }
   ],
   "source": [
    "type(None)"
   ]
  },
  {
   "cell_type": "code",
   "execution_count": 15,
   "id": "operating-exchange",
   "metadata": {},
   "outputs": [],
   "source": [
    "a = np.zeros([2,2])"
   ]
  },
  {
   "cell_type": "code",
   "execution_count": 174,
   "id": "private-spencer",
   "metadata": {},
   "outputs": [
    {
     "data": {
      "text/plain": [
       "[0.8521437889662113,\n",
       " 0.01831563888873418,\n",
       " 0.8521437889662113,\n",
       " 0.01831563888873418]"
      ]
     },
     "execution_count": 174,
     "metadata": {},
     "output_type": "execute_result"
    }
   ],
   "source": [
    "x = 2\n",
    "test = [] \n",
    "for cont in range(2):\n",
    "    for cont1 in range(2):\n",
    "        test.append(np.exp(-np.power(x - a.mu[cont][cont1],2)/(np.power(a.sig[cont][cont1], 2))) )\n",
    "        \n",
    "test"
   ]
  },
  {
   "cell_type": "code",
   "execution_count": 18,
   "id": "conventional-surge",
   "metadata": {},
   "outputs": [],
   "source": [
    "a = a+1"
   ]
  },
  {
   "cell_type": "code",
   "execution_count": 19,
   "id": "thermal-adult",
   "metadata": {},
   "outputs": [
    {
     "data": {
      "text/plain": [
       "array([[1., 1.],\n",
       "       [1., 1.]])"
      ]
     },
     "execution_count": 19,
     "metadata": {},
     "output_type": "execute_result"
    }
   ],
   "source": [
    "a"
   ]
  },
  {
   "cell_type": "code",
   "execution_count": 23,
   "id": "artificial-activity",
   "metadata": {},
   "outputs": [
    {
     "data": {
      "text/plain": [
       "False"
      ]
     },
     "execution_count": 23,
     "metadata": {},
     "output_type": "execute_result"
    }
   ],
   "source": [
    "not isinstance([a],collections.abc.Iterable) "
   ]
  },
  {
   "cell_type": "code",
   "execution_count": 20,
   "id": "danish-parking",
   "metadata": {},
   "outputs": [
    {
     "data": {
      "text/plain": [
       "array([ 0.,  6., 12.])"
      ]
     },
     "execution_count": 20,
     "metadata": {},
     "output_type": "execute_result"
    }
   ],
   "source": [
    "np.linspace(0,12,3)"
   ]
  },
  {
   "cell_type": "code",
   "execution_count": 24,
   "id": "casual-speaker",
   "metadata": {},
   "outputs": [
    {
     "data": {
      "text/plain": [
       "array([[[0., 0., 0.],\n",
       "        [0., 0., 0.],\n",
       "        [0., 0., 0.]],\n",
       "\n",
       "       [[0., 0., 0.],\n",
       "        [0., 0., 0.],\n",
       "        [0., 0., 0.]],\n",
       "\n",
       "       [[0., 0., 0.],\n",
       "        [0., 0., 0.],\n",
       "        [0., 0., 0.]]])"
      ]
     },
     "execution_count": 24,
     "metadata": {},
     "output_type": "execute_result"
    }
   ],
   "source": [
    "np.zeros([3 for eachinput in range(3)])"
   ]
  },
  {
   "cell_type": "markdown",
   "id": "advance-footage",
   "metadata": {},
   "source": [
    "### Código original do RLS"
   ]
  },
  {
   "cell_type": "code",
   "execution_count": 41,
   "id": "identified-potter",
   "metadata": {},
   "outputs": [],
   "source": [
    "import math\n",
    "import matplotlib.pyplot as plt\n",
    "\n",
    "class RLS:\n",
    "    def __init__(self, num_vars, lam, delta):\n",
    "        \n",
    "        #num_vars: number of variables including constant\n",
    "        #lam: forgetting factor, usually very close to 1.\n",
    "        \n",
    "        self.num_vars = num_vars\n",
    "        \n",
    "        # delta controls the initial state.\n",
    "        self.A = delta*np.matrix(np.identity(self.num_vars))\n",
    "        self.w = np.matrix(np.zeros(self.num_vars))\n",
    "        self.w = self.w.reshape(self.w.shape[1],1)\n",
    "        \n",
    "        # Variables needed for add_obs\n",
    "        self.lam_inv = lam**(-1)\n",
    "        self.sqrt_lam_inv = math.sqrt(self.lam_inv)\n",
    "        \n",
    "        # A priori error\n",
    "        self.a_priori_error = 0\n",
    "        \n",
    "        # Count of number of observations added\n",
    "        self.num_obs = 0\n",
    "\n",
    "    def add_obs(self, x, t):\n",
    "        '''\n",
    "        Add the observation x with label t.\n",
    "        x is a column vector as a numpy matrix\n",
    "        t is a real scalar\n",
    "        '''            \n",
    "        z = self.lam_inv*self.A*x\n",
    "        alpha = float((1 + x.T*z)**(-1))\n",
    "        self.a_priori_error = float(t - self.w.T*x)\n",
    "        self.w = self.w + (t-alpha*float(x.T*(self.w+t*z)))*z\n",
    "        self.A -= alpha*z*z.T\n",
    "        self.num_obs += 1\n",
    "        \n",
    "    def fit(self, X, y):\n",
    "        '''\n",
    "        Fit a model to X,y.\n",
    "        X and y are numpy arrays.\n",
    "        Individual observations in X should have a prepended 1 for constant coefficient.\n",
    "        '''\n",
    "        for i in range(len(X)):\n",
    "            x = np.transpose(np.matrix(X[i]))\n",
    "            self.add_obs(x,y[i])\n",
    "\n",
    "\n",
    "    def get_error(self):\n",
    "        '''\n",
    "        Finds the a priori (instantaneous) error. \n",
    "        Does not calculate the cumulative effect\n",
    "        of round-off errors.\n",
    "        '''\n",
    "        return self.a_priori_error\n",
    "    \n",
    "    def predict(self, x):\n",
    "        '''\n",
    "        Predict the value of observation x. x should be a numpy matrix (col vector)\n",
    "        '''\n",
    "        return float(self.w.T*x)"
   ]
  },
  {
   "cell_type": "markdown",
   "id": "dynamic-viewer",
   "metadata": {},
   "source": [
    "### Multiplicação de matrizes de multiplas dimensões"
   ]
  },
  {
   "cell_type": "code",
   "execution_count": 91,
   "id": "photographic-brave",
   "metadata": {},
   "outputs": [
    {
     "name": "stdout",
     "output_type": "stream",
     "text": [
      "(2, 2, 1)\n",
      "[[[2. 2.]\n",
      "  [2. 2.]]\n",
      "\n",
      " [[2. 2.]\n",
      "  [2. 2.]]]\n"
     ]
    }
   ],
   "source": [
    "a = np.zeros([2,1,1])+1\n",
    "b = np.zeros([1,2,1])+1\n",
    "c = np.zeros([1,1,2])+2\n",
    "e = np.matmul(b, a)\n",
    "print(e.shape)\n",
    "ee = np.matmul(e, c)\n",
    "print(ee)\n",
    "# eee = np.matmul(c,a)\n",
    "# print(eee.shape)\n",
    "# eeee = np.matmul(e,ee)\n",
    "# print(eeee.shape)\n",
    "# eeeee = np.matmul(eee,eeee)\n",
    "# print(eeeee)\n",
    "!!!!a.reshape([2,1,1])"
   ]
  },
  {
   "cell_type": "code",
   "execution_count": 49,
   "id": "international-campaign",
   "metadata": {},
   "outputs": [
    {
     "ename": "ValueError",
     "evalue": "matmul: Input operand 1 has a mismatch in its core dimension 0, with gufunc signature (n?,k),(k,m?)->(n?,m?) (size 1 is different from 3)",
     "output_type": "error",
     "traceback": [
      "\u001b[1;31m---------------------------------------------------------------------------\u001b[0m",
      "\u001b[1;31mValueError\u001b[0m                                Traceback (most recent call last)",
      "\u001b[1;32m<ipython-input-49-f60f4ba67003>\u001b[0m in \u001b[0;36m<module>\u001b[1;34m\u001b[0m\n\u001b[1;32m----> 1\u001b[1;33m \u001b[0mnp\u001b[0m\u001b[1;33m.\u001b[0m\u001b[0mmatmul\u001b[0m\u001b[1;33m(\u001b[0m\u001b[0mc\u001b[0m\u001b[1;33m,\u001b[0m\u001b[0mb\u001b[0m\u001b[1;33m)\u001b[0m\u001b[1;33m\u001b[0m\u001b[1;33m\u001b[0m\u001b[0m\n\u001b[0m",
      "\u001b[1;31mValueError\u001b[0m: matmul: Input operand 1 has a mismatch in its core dimension 0, with gufunc signature (n?,k),(k,m?)->(n?,m?) (size 1 is different from 3)"
     ]
    }
   ],
   "source": [
    "np.matmul(c,b)"
   ]
  },
  {
   "cell_type": "code",
   "execution_count": 31,
   "id": "august-expression",
   "metadata": {},
   "outputs": [
    {
     "data": {
      "text/plain": [
       "array([0, 1])"
      ]
     },
     "execution_count": 31,
     "metadata": {},
     "output_type": "execute_result"
    }
   ],
   "source": [
    "a"
   ]
  },
  {
   "cell_type": "code",
   "execution_count": 48,
   "id": "informal-times",
   "metadata": {},
   "outputs": [],
   "source": [
    "b = np.zeros([1,3])+2"
   ]
  },
  {
   "cell_type": "code",
   "execution_count": 52,
   "id": "royal-natural",
   "metadata": {},
   "outputs": [],
   "source": [
    "d = np.zeros([2,1,1])"
   ]
  },
  {
   "cell_type": "code",
   "execution_count": 53,
   "id": "minor-primary",
   "metadata": {},
   "outputs": [
    {
     "data": {
      "text/plain": [
       "array([[[0.]],\n",
       "\n",
       "       [[0.]]])"
      ]
     },
     "execution_count": 53,
     "metadata": {},
     "output_type": "execute_result"
    }
   ],
   "source": [
    "d"
   ]
  },
  {
   "cell_type": "code",
   "execution_count": 67,
   "id": "wooden-theorem",
   "metadata": {},
   "outputs": [],
   "source": [
    "a = np.zeros([2,2])"
   ]
  },
  {
   "cell_type": "code",
   "execution_count": 70,
   "id": "environmental-litigation",
   "metadata": {},
   "outputs": [
    {
     "data": {
      "text/plain": [
       "array([[1., 2.],\n",
       "       [0., 0.]])"
      ]
     },
     "execution_count": 70,
     "metadata": {},
     "output_type": "execute_result"
    }
   ],
   "source": [
    "a"
   ]
  },
  {
   "cell_type": "code",
   "execution_count": 69,
   "id": "editorial-hierarchy",
   "metadata": {},
   "outputs": [],
   "source": [
    "a[0]= [1,2]"
   ]
  },
  {
   "cell_type": "code",
   "execution_count": 110,
   "id": "straight-badge",
   "metadata": {},
   "outputs": [
    {
     "data": {
      "text/plain": [
       "array([[0.33333333, 0.33333333, 0.33333333],\n",
       "       [0.33333333, 0.33333333, 0.33333333],\n",
       "       [0.33333333, 0.33333333, 0.33333333]])"
      ]
     },
     "execution_count": 110,
     "metadata": {},
     "output_type": "execute_result"
    }
   ],
   "source": [
    "a/3"
   ]
  },
  {
   "cell_type": "code",
   "execution_count": 102,
   "id": "thermal-posting",
   "metadata": {},
   "outputs": [],
   "source": [
    "a.append(1)"
   ]
  },
  {
   "cell_type": "code",
   "execution_count": 20,
   "id": "mexican-series",
   "metadata": {},
   "outputs": [
    {
     "ename": "SyntaxError",
     "evalue": "invalid syntax (<ipython-input-20-1d0fc342f4c2>, line 1)",
     "output_type": "error",
     "traceback": [
      "\u001b[1;36m  File \u001b[1;32m\"<ipython-input-20-1d0fc342f4c2>\"\u001b[1;36m, line \u001b[1;32m1\u001b[0m\n\u001b[1;33m    for range(1):\u001b[0m\n\u001b[1;37m                ^\u001b[0m\n\u001b[1;31mSyntaxError\u001b[0m\u001b[1;31m:\u001b[0m invalid syntax\n"
     ]
    }
   ],
   "source": [
    "for range(1):\n",
    "    print(a)"
   ]
  },
  {
   "cell_type": "code",
   "execution_count": 66,
   "id": "legal-weekly",
   "metadata": {},
   "outputs": [
    {
     "data": {
      "text/plain": [
       "array([ 8, 20])"
      ]
     },
     "execution_count": 66,
     "metadata": {},
     "output_type": "execute_result"
    }
   ],
   "source": [
    "np.matmul([[1,2],[4,2]],[4,2])"
   ]
  },
  {
   "cell_type": "code",
   "execution_count": 84,
   "id": "joint-cargo",
   "metadata": {},
   "outputs": [
    {
     "name": "stdout",
     "output_type": "stream",
     "text": [
      "[0.95836004 0.02059861]\n",
      "[0.02059861 0.00044274]\n"
     ]
    }
   ],
   "source": [
    "for value in a.Wbarra:\n",
    "    print(value)"
   ]
  },
  {
   "cell_type": "code",
   "execution_count": 83,
   "id": "terminal-spare",
   "metadata": {},
   "outputs": [
    {
     "data": {
      "text/plain": [
       "array([[3., 1., 1.],\n",
       "       [1., 3., 1.],\n",
       "       [1., 1., 3.]])"
      ]
     },
     "execution_count": 83,
     "metadata": {},
     "output_type": "execute_result"
    }
   ],
   "source": [
    "1+np.identity(3)*2"
   ]
  },
  {
   "cell_type": "code",
   "execution_count": 135,
   "id": "stupid-community",
   "metadata": {},
   "outputs": [],
   "source": [
    "f = {}"
   ]
  },
  {
   "cell_type": "code",
   "execution_count": 136,
   "id": "italian-process",
   "metadata": {},
   "outputs": [],
   "source": [
    "f[\"a\"] =2"
   ]
  },
  {
   "cell_type": "code",
   "execution_count": 137,
   "id": "metric-mission",
   "metadata": {},
   "outputs": [
    {
     "data": {
      "text/plain": [
       "{'a': 2}"
      ]
     },
     "execution_count": 137,
     "metadata": {},
     "output_type": "execute_result"
    }
   ],
   "source": [
    "f"
   ]
  },
  {
   "cell_type": "code",
   "execution_count": 144,
   "id": "comprehensive-vocabulary",
   "metadata": {},
   "outputs": [
    {
     "data": {
      "text/plain": [
       "array([1.91672009e+00, 4.11972175e-02, 4.11972175e-02, 8.85476569e-04,\n",
       "       1.91672009e+00, 4.11972175e-02, 4.11972175e-02, 8.85476569e-04,\n",
       "       9.58360044e-01, 2.05986087e-02, 2.05986087e-02, 4.42738284e-04])"
      ]
     },
     "execution_count": 144,
     "metadata": {},
     "output_type": "execute_result"
    }
   ],
   "source": [
    "a.covarienceMatrix[0]"
   ]
  },
  {
   "cell_type": "code",
   "execution_count": 147,
   "id": "sharp-action",
   "metadata": {},
   "outputs": [
    {
     "ename": "TypeError",
     "evalue": "expected 1D vector for x",
     "output_type": "error",
     "traceback": [
      "\u001b[1;31m---------------------------------------------------------------------------\u001b[0m",
      "\u001b[1;31mTypeError\u001b[0m                                 Traceback (most recent call last)",
      "\u001b[1;32m<ipython-input-147-6b50368b7c35>\u001b[0m in \u001b[0;36m<module>\u001b[1;34m\u001b[0m\n\u001b[1;32m----> 1\u001b[1;33m \u001b[0mnp\u001b[0m\u001b[1;33m.\u001b[0m\u001b[0mpolyfit\u001b[0m\u001b[1;33m(\u001b[0m\u001b[1;33m[\u001b[0m\u001b[0ma\u001b[0m\u001b[1;33m.\u001b[0m\u001b[0mcovarienceMatrix\u001b[0m\u001b[1;33m[\u001b[0m\u001b[1;36m0\u001b[0m\u001b[1;33m]\u001b[0m\u001b[1;33m]\u001b[0m\u001b[1;33m,\u001b[0m\u001b[1;36m2\u001b[0m\u001b[1;33m,\u001b[0m\u001b[1;36m12\u001b[0m\u001b[1;33m)\u001b[0m\u001b[1;33m\u001b[0m\u001b[1;33m\u001b[0m\u001b[0m\n\u001b[0m",
      "\u001b[1;32m<__array_function__ internals>\u001b[0m in \u001b[0;36mpolyfit\u001b[1;34m(*args, **kwargs)\u001b[0m\n",
      "\u001b[1;32mD:\\ProgramData\\Anaconda3\\lib\\site-packages\\numpy\\lib\\polynomial.py\u001b[0m in \u001b[0;36mpolyfit\u001b[1;34m(x, y, deg, rcond, full, w, cov)\u001b[0m\n\u001b[0;32m    595\u001b[0m         \u001b[1;32mraise\u001b[0m \u001b[0mValueError\u001b[0m\u001b[1;33m(\u001b[0m\u001b[1;34m\"expected deg >= 0\"\u001b[0m\u001b[1;33m)\u001b[0m\u001b[1;33m\u001b[0m\u001b[1;33m\u001b[0m\u001b[0m\n\u001b[0;32m    596\u001b[0m     \u001b[1;32mif\u001b[0m \u001b[0mx\u001b[0m\u001b[1;33m.\u001b[0m\u001b[0mndim\u001b[0m \u001b[1;33m!=\u001b[0m \u001b[1;36m1\u001b[0m\u001b[1;33m:\u001b[0m\u001b[1;33m\u001b[0m\u001b[1;33m\u001b[0m\u001b[0m\n\u001b[1;32m--> 597\u001b[1;33m         \u001b[1;32mraise\u001b[0m \u001b[0mTypeError\u001b[0m\u001b[1;33m(\u001b[0m\u001b[1;34m\"expected 1D vector for x\"\u001b[0m\u001b[1;33m)\u001b[0m\u001b[1;33m\u001b[0m\u001b[1;33m\u001b[0m\u001b[0m\n\u001b[0m\u001b[0;32m    598\u001b[0m     \u001b[1;32mif\u001b[0m \u001b[0mx\u001b[0m\u001b[1;33m.\u001b[0m\u001b[0msize\u001b[0m \u001b[1;33m==\u001b[0m \u001b[1;36m0\u001b[0m\u001b[1;33m:\u001b[0m\u001b[1;33m\u001b[0m\u001b[1;33m\u001b[0m\u001b[0m\n\u001b[0;32m    599\u001b[0m         \u001b[1;32mraise\u001b[0m \u001b[0mTypeError\u001b[0m\u001b[1;33m(\u001b[0m\u001b[1;34m\"expected non-empty vector for x\"\u001b[0m\u001b[1;33m)\u001b[0m\u001b[1;33m\u001b[0m\u001b[1;33m\u001b[0m\u001b[0m\n",
      "\u001b[1;31mTypeError\u001b[0m: expected 1D vector for x"
     ]
    }
   ],
   "source": [
    "np.polyfit([a.covarienceMatrix[0]],2,12)"
   ]
  },
  {
   "cell_type": "code",
   "execution_count": 59,
   "id": "shaped-speaking",
   "metadata": {},
   "outputs": [
    {
     "name": "stdout",
     "output_type": "stream",
     "text": [
      "0\n"
     ]
    }
   ],
   "source": [
    "\n",
    "cont1 +=1 +(-(cont1+1)*0**(2-cont1))\n",
    "print(cont1)"
   ]
  },
  {
   "attachments": {
    "image.png": {
     "image/png": "[encoded data removed]"
    }
   },
   "cell_type": "markdown",
   "id": "gorgeous-tutorial",
   "metadata": {},
   "source": [
    "![image.png](attachment:image.png)"
   ]
  },
  {
   "attachments": {
    "image.png": {
     "image/png": "[encoded data removed]"
    }
   },
   "cell_type": "markdown",
   "id": "optimum-tourist",
   "metadata": {},
   "source": [
    "![image.png](attachment:image.png)"
   ]
  },
  {
   "cell_type": "code",
   "execution_count": 2,
   "id": "ethical-lesbian",
   "metadata": {},
   "outputs": [
    {
     "data": {
      "text/plain": [
       "array([[1, 2, 3],\n",
       "       [4, 5, 6],\n",
       "       [7, 8, 9]])"
      ]
     },
     "execution_count": 2,
     "metadata": {},
     "output_type": "execute_result"
    }
   ],
   "source": [
    "\n",
    "np.array([1,2,3,4,5,6,7,8,9]).reshape([3,3])"
   ]
  },
  {
   "cell_type": "code",
   "execution_count": 1,
   "id": "ceramic-mistress",
   "metadata": {},
   "outputs": [],
   "source": [
    "import numpy as np"
   ]
  },
  {
   "cell_type": "code",
   "execution_count": null,
   "id": "tough-access",
   "metadata": {},
   "outputs": [],
   "source": []
  }
 ],
 "metadata": {
  "kernelspec": {
   "display_name": "Python 3",
   "language": "python",
   "name": "python3"
  },
  "language_info": {
   "codemirror_mode": {
    "name": "ipython",
    "version": 3
   },
   "file_extension": ".py",
   "mimetype": "text/x-python",
   "name": "python",
   "nbconvert_exporter": "python",
   "pygments_lexer": "ipython3",
   "version": "3.8.5"
  }
 },
 "nbformat": 4,
 "nbformat_minor": 5
}
